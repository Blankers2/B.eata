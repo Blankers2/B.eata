{
  "nbformat": 4,
  "nbformat_minor": 0,
  "metadata": {
    "colab": {
      "provenance": []
    },
    "kernelspec": {
      "name": "python3",
      "display_name": "Python 3"
    },
    "language_info": {
      "name": "python"
    }
  },
  "cells": [
    {
      "cell_type": "code",
      "source": [
        "!pip install transformers[torch] accelerate -U\n",
        "!pip install torch datasets scikit-learn"
      ],
      "metadata": {
        "colab": {
          "base_uri": "https://localhost:8080/"
        },
        "id": "eymZsnvJ_o1j",
        "outputId": "400c1f23-e59d-4afe-a686-b0409a7ab30d"
      },
      "execution_count": null,
      "outputs": [
        {
          "output_type": "stream",
          "name": "stdout",
          "text": [
            "Requirement already satisfied: transformers[torch] in /usr/local/lib/python3.10/dist-packages (4.41.2)\n",
            "Collecting accelerate\n",
            "  Downloading accelerate-0.31.0-py3-none-any.whl (309 kB)\n",
            "\u001b[2K     \u001b[90m━━━━━━━━━━━━━━━━━━━━━━━━━━━━━━━━━━━━━━━━\u001b[0m \u001b[32m309.4/309.4 kB\u001b[0m \u001b[31m4.1 MB/s\u001b[0m eta \u001b[36m0:00:00\u001b[0m\n",
            "\u001b[?25hRequirement already satisfied: filelock in /usr/local/lib/python3.10/dist-packages (from transformers[torch]) (3.15.3)\n",
            "Requirement already satisfied: huggingface-hub<1.0,>=0.23.0 in /usr/local/lib/python3.10/dist-packages (from transformers[torch]) (0.23.4)\n",
            "Requirement already satisfied: numpy>=1.17 in /usr/local/lib/python3.10/dist-packages (from transformers[torch]) (1.25.2)\n",
            "Requirement already satisfied: packaging>=20.0 in /usr/local/lib/python3.10/dist-packages (from transformers[torch]) (24.1)\n",
            "Requirement already satisfied: pyyaml>=5.1 in /usr/local/lib/python3.10/dist-packages (from transformers[torch]) (6.0.1)\n",
            "Requirement already satisfied: regex!=2019.12.17 in /usr/local/lib/python3.10/dist-packages (from transformers[torch]) (2024.5.15)\n",
            "Requirement already satisfied: requests in /usr/local/lib/python3.10/dist-packages (from transformers[torch]) (2.31.0)\n",
            "Requirement already satisfied: tokenizers<0.20,>=0.19 in /usr/local/lib/python3.10/dist-packages (from transformers[torch]) (0.19.1)\n",
            "Requirement already satisfied: safetensors>=0.4.1 in /usr/local/lib/python3.10/dist-packages (from transformers[torch]) (0.4.3)\n",
            "Requirement already satisfied: tqdm>=4.27 in /usr/local/lib/python3.10/dist-packages (from transformers[torch]) (4.66.4)\n",
            "Requirement already satisfied: torch in /usr/local/lib/python3.10/dist-packages (from transformers[torch]) (2.3.0+cu121)\n",
            "Requirement already satisfied: psutil in /usr/local/lib/python3.10/dist-packages (from accelerate) (5.9.5)\n",
            "Requirement already satisfied: fsspec>=2023.5.0 in /usr/local/lib/python3.10/dist-packages (from huggingface-hub<1.0,>=0.23.0->transformers[torch]) (2023.6.0)\n",
            "Requirement already satisfied: typing-extensions>=3.7.4.3 in /usr/local/lib/python3.10/dist-packages (from huggingface-hub<1.0,>=0.23.0->transformers[torch]) (4.12.2)\n",
            "Requirement already satisfied: sympy in /usr/local/lib/python3.10/dist-packages (from torch->transformers[torch]) (1.12.1)\n",
            "Requirement already satisfied: networkx in /usr/local/lib/python3.10/dist-packages (from torch->transformers[torch]) (3.3)\n",
            "Requirement already satisfied: jinja2 in /usr/local/lib/python3.10/dist-packages (from torch->transformers[torch]) (3.1.4)\n",
            "Collecting nvidia-cuda-nvrtc-cu12==12.1.105 (from torch->transformers[torch])\n",
            "  Using cached nvidia_cuda_nvrtc_cu12-12.1.105-py3-none-manylinux1_x86_64.whl (23.7 MB)\n",
            "Collecting nvidia-cuda-runtime-cu12==12.1.105 (from torch->transformers[torch])\n",
            "  Using cached nvidia_cuda_runtime_cu12-12.1.105-py3-none-manylinux1_x86_64.whl (823 kB)\n",
            "Collecting nvidia-cuda-cupti-cu12==12.1.105 (from torch->transformers[torch])\n",
            "  Using cached nvidia_cuda_cupti_cu12-12.1.105-py3-none-manylinux1_x86_64.whl (14.1 MB)\n",
            "Collecting nvidia-cudnn-cu12==8.9.2.26 (from torch->transformers[torch])\n",
            "  Using cached nvidia_cudnn_cu12-8.9.2.26-py3-none-manylinux1_x86_64.whl (731.7 MB)\n",
            "Collecting nvidia-cublas-cu12==12.1.3.1 (from torch->transformers[torch])\n",
            "  Using cached nvidia_cublas_cu12-12.1.3.1-py3-none-manylinux1_x86_64.whl (410.6 MB)\n",
            "Collecting nvidia-cufft-cu12==11.0.2.54 (from torch->transformers[torch])\n",
            "  Using cached nvidia_cufft_cu12-11.0.2.54-py3-none-manylinux1_x86_64.whl (121.6 MB)\n",
            "Collecting nvidia-curand-cu12==10.3.2.106 (from torch->transformers[torch])\n",
            "  Using cached nvidia_curand_cu12-10.3.2.106-py3-none-manylinux1_x86_64.whl (56.5 MB)\n",
            "Collecting nvidia-cusolver-cu12==11.4.5.107 (from torch->transformers[torch])\n",
            "  Using cached nvidia_cusolver_cu12-11.4.5.107-py3-none-manylinux1_x86_64.whl (124.2 MB)\n",
            "Collecting nvidia-cusparse-cu12==12.1.0.106 (from torch->transformers[torch])\n",
            "  Using cached nvidia_cusparse_cu12-12.1.0.106-py3-none-manylinux1_x86_64.whl (196.0 MB)\n",
            "Collecting nvidia-nccl-cu12==2.20.5 (from torch->transformers[torch])\n",
            "  Using cached nvidia_nccl_cu12-2.20.5-py3-none-manylinux2014_x86_64.whl (176.2 MB)\n",
            "Collecting nvidia-nvtx-cu12==12.1.105 (from torch->transformers[torch])\n",
            "  Using cached nvidia_nvtx_cu12-12.1.105-py3-none-manylinux1_x86_64.whl (99 kB)\n",
            "Requirement already satisfied: triton==2.3.0 in /usr/local/lib/python3.10/dist-packages (from torch->transformers[torch]) (2.3.0)\n",
            "Collecting nvidia-nvjitlink-cu12 (from nvidia-cusolver-cu12==11.4.5.107->torch->transformers[torch])\n",
            "  Downloading nvidia_nvjitlink_cu12-12.5.40-py3-none-manylinux2014_x86_64.whl (21.3 MB)\n",
            "\u001b[2K     \u001b[90m━━━━━━━━━━━━━━━━━━━━━━━━━━━━━━━━━━━━━━━━\u001b[0m \u001b[32m21.3/21.3 MB\u001b[0m \u001b[31m37.0 MB/s\u001b[0m eta \u001b[36m0:00:00\u001b[0m\n",
            "\u001b[?25hRequirement already satisfied: charset-normalizer<4,>=2 in /usr/local/lib/python3.10/dist-packages (from requests->transformers[torch]) (3.3.2)\n",
            "Requirement already satisfied: idna<4,>=2.5 in /usr/local/lib/python3.10/dist-packages (from requests->transformers[torch]) (3.7)\n",
            "Requirement already satisfied: urllib3<3,>=1.21.1 in /usr/local/lib/python3.10/dist-packages (from requests->transformers[torch]) (2.0.7)\n",
            "Requirement already satisfied: certifi>=2017.4.17 in /usr/local/lib/python3.10/dist-packages (from requests->transformers[torch]) (2024.6.2)\n",
            "Requirement already satisfied: MarkupSafe>=2.0 in /usr/local/lib/python3.10/dist-packages (from jinja2->torch->transformers[torch]) (2.1.5)\n",
            "Requirement already satisfied: mpmath<1.4.0,>=1.1.0 in /usr/local/lib/python3.10/dist-packages (from sympy->torch->transformers[torch]) (1.3.0)\n",
            "Installing collected packages: nvidia-nvtx-cu12, nvidia-nvjitlink-cu12, nvidia-nccl-cu12, nvidia-curand-cu12, nvidia-cufft-cu12, nvidia-cuda-runtime-cu12, nvidia-cuda-nvrtc-cu12, nvidia-cuda-cupti-cu12, nvidia-cublas-cu12, nvidia-cusparse-cu12, nvidia-cudnn-cu12, nvidia-cusolver-cu12, accelerate\n",
            "Successfully installed accelerate-0.31.0 nvidia-cublas-cu12-12.1.3.1 nvidia-cuda-cupti-cu12-12.1.105 nvidia-cuda-nvrtc-cu12-12.1.105 nvidia-cuda-runtime-cu12-12.1.105 nvidia-cudnn-cu12-8.9.2.26 nvidia-cufft-cu12-11.0.2.54 nvidia-curand-cu12-10.3.2.106 nvidia-cusolver-cu12-11.4.5.107 nvidia-cusparse-cu12-12.1.0.106 nvidia-nccl-cu12-2.20.5 nvidia-nvjitlink-cu12-12.5.40 nvidia-nvtx-cu12-12.1.105\n",
            "Requirement already satisfied: torch in /usr/local/lib/python3.10/dist-packages (2.3.0+cu121)\n",
            "Collecting datasets\n",
            "  Downloading datasets-2.20.0-py3-none-any.whl (547 kB)\n",
            "\u001b[2K     \u001b[90m━━━━━━━━━━━━━━━━━━━━━━━━━━━━━━━━━━━━━━━━\u001b[0m \u001b[32m547.8/547.8 kB\u001b[0m \u001b[31m8.3 MB/s\u001b[0m eta \u001b[36m0:00:00\u001b[0m\n",
            "\u001b[?25hRequirement already satisfied: scikit-learn in /usr/local/lib/python3.10/dist-packages (1.2.2)\n",
            "Requirement already satisfied: filelock in /usr/local/lib/python3.10/dist-packages (from torch) (3.15.3)\n",
            "Requirement already satisfied: typing-extensions>=4.8.0 in /usr/local/lib/python3.10/dist-packages (from torch) (4.12.2)\n",
            "Requirement already satisfied: sympy in /usr/local/lib/python3.10/dist-packages (from torch) (1.12.1)\n",
            "Requirement already satisfied: networkx in /usr/local/lib/python3.10/dist-packages (from torch) (3.3)\n",
            "Requirement already satisfied: jinja2 in /usr/local/lib/python3.10/dist-packages (from torch) (3.1.4)\n",
            "Requirement already satisfied: fsspec in /usr/local/lib/python3.10/dist-packages (from torch) (2023.6.0)\n",
            "Requirement already satisfied: nvidia-cuda-nvrtc-cu12==12.1.105 in /usr/local/lib/python3.10/dist-packages (from torch) (12.1.105)\n",
            "Requirement already satisfied: nvidia-cuda-runtime-cu12==12.1.105 in /usr/local/lib/python3.10/dist-packages (from torch) (12.1.105)\n",
            "Requirement already satisfied: nvidia-cuda-cupti-cu12==12.1.105 in /usr/local/lib/python3.10/dist-packages (from torch) (12.1.105)\n",
            "Requirement already satisfied: nvidia-cudnn-cu12==8.9.2.26 in /usr/local/lib/python3.10/dist-packages (from torch) (8.9.2.26)\n",
            "Requirement already satisfied: nvidia-cublas-cu12==12.1.3.1 in /usr/local/lib/python3.10/dist-packages (from torch) (12.1.3.1)\n",
            "Requirement already satisfied: nvidia-cufft-cu12==11.0.2.54 in /usr/local/lib/python3.10/dist-packages (from torch) (11.0.2.54)\n",
            "Requirement already satisfied: nvidia-curand-cu12==10.3.2.106 in /usr/local/lib/python3.10/dist-packages (from torch) (10.3.2.106)\n",
            "Requirement already satisfied: nvidia-cusolver-cu12==11.4.5.107 in /usr/local/lib/python3.10/dist-packages (from torch) (11.4.5.107)\n",
            "Requirement already satisfied: nvidia-cusparse-cu12==12.1.0.106 in /usr/local/lib/python3.10/dist-packages (from torch) (12.1.0.106)\n",
            "Requirement already satisfied: nvidia-nccl-cu12==2.20.5 in /usr/local/lib/python3.10/dist-packages (from torch) (2.20.5)\n",
            "Requirement already satisfied: nvidia-nvtx-cu12==12.1.105 in /usr/local/lib/python3.10/dist-packages (from torch) (12.1.105)\n",
            "Requirement already satisfied: triton==2.3.0 in /usr/local/lib/python3.10/dist-packages (from torch) (2.3.0)\n",
            "Requirement already satisfied: nvidia-nvjitlink-cu12 in /usr/local/lib/python3.10/dist-packages (from nvidia-cusolver-cu12==11.4.5.107->torch) (12.5.40)\n",
            "Requirement already satisfied: numpy>=1.17 in /usr/local/lib/python3.10/dist-packages (from datasets) (1.25.2)\n",
            "Collecting pyarrow>=15.0.0 (from datasets)\n",
            "  Downloading pyarrow-16.1.0-cp310-cp310-manylinux_2_28_x86_64.whl (40.8 MB)\n",
            "\u001b[2K     \u001b[90m━━━━━━━━━━━━━━━━━━━━━━━━━━━━━━━━━━━━━━━━\u001b[0m \u001b[32m40.8/40.8 MB\u001b[0m \u001b[31m16.0 MB/s\u001b[0m eta \u001b[36m0:00:00\u001b[0m\n",
            "\u001b[?25hRequirement already satisfied: pyarrow-hotfix in /usr/local/lib/python3.10/dist-packages (from datasets) (0.6)\n",
            "Collecting dill<0.3.9,>=0.3.0 (from datasets)\n",
            "  Downloading dill-0.3.8-py3-none-any.whl (116 kB)\n",
            "\u001b[2K     \u001b[90m━━━━━━━━━━━━━━━━━━━━━━━━━━━━━━━━━━━━━━━━\u001b[0m \u001b[32m116.3/116.3 kB\u001b[0m \u001b[31m13.5 MB/s\u001b[0m eta \u001b[36m0:00:00\u001b[0m\n",
            "\u001b[?25hRequirement already satisfied: pandas in /usr/local/lib/python3.10/dist-packages (from datasets) (2.0.3)\n",
            "Collecting requests>=2.32.2 (from datasets)\n",
            "  Downloading requests-2.32.3-py3-none-any.whl (64 kB)\n",
            "\u001b[2K     \u001b[90m━━━━━━━━━━━━━━━━━━━━━━━━━━━━━━━━━━━━━━━━\u001b[0m \u001b[32m64.9/64.9 kB\u001b[0m \u001b[31m7.5 MB/s\u001b[0m eta \u001b[36m0:00:00\u001b[0m\n",
            "\u001b[?25hRequirement already satisfied: tqdm>=4.66.3 in /usr/local/lib/python3.10/dist-packages (from datasets) (4.66.4)\n",
            "Collecting xxhash (from datasets)\n",
            "  Downloading xxhash-3.4.1-cp310-cp310-manylinux_2_17_x86_64.manylinux2014_x86_64.whl (194 kB)\n",
            "\u001b[2K     \u001b[90m━━━━━━━━━━━━━━━━━━━━━━━━━━━━━━━━━━━━━━━━\u001b[0m \u001b[32m194.1/194.1 kB\u001b[0m \u001b[31m20.2 MB/s\u001b[0m eta \u001b[36m0:00:00\u001b[0m\n",
            "\u001b[?25hCollecting multiprocess (from datasets)\n",
            "  Downloading multiprocess-0.70.16-py310-none-any.whl (134 kB)\n",
            "\u001b[2K     \u001b[90m━━━━━━━━━━━━━━━━━━━━━━━━━━━━━━━━━━━━━━━━\u001b[0m \u001b[32m134.8/134.8 kB\u001b[0m \u001b[31m13.2 MB/s\u001b[0m eta \u001b[36m0:00:00\u001b[0m\n",
            "\u001b[?25hRequirement already satisfied: aiohttp in /usr/local/lib/python3.10/dist-packages (from datasets) (3.9.5)\n",
            "Requirement already satisfied: huggingface-hub>=0.21.2 in /usr/local/lib/python3.10/dist-packages (from datasets) (0.23.4)\n",
            "Requirement already satisfied: packaging in /usr/local/lib/python3.10/dist-packages (from datasets) (24.1)\n",
            "Requirement already satisfied: pyyaml>=5.1 in /usr/local/lib/python3.10/dist-packages (from datasets) (6.0.1)\n",
            "Requirement already satisfied: scipy>=1.3.2 in /usr/local/lib/python3.10/dist-packages (from scikit-learn) (1.11.4)\n",
            "Requirement already satisfied: joblib>=1.1.1 in /usr/local/lib/python3.10/dist-packages (from scikit-learn) (1.4.2)\n",
            "Requirement already satisfied: threadpoolctl>=2.0.0 in /usr/local/lib/python3.10/dist-packages (from scikit-learn) (3.5.0)\n",
            "Requirement already satisfied: aiosignal>=1.1.2 in /usr/local/lib/python3.10/dist-packages (from aiohttp->datasets) (1.3.1)\n",
            "Requirement already satisfied: attrs>=17.3.0 in /usr/local/lib/python3.10/dist-packages (from aiohttp->datasets) (23.2.0)\n",
            "Requirement already satisfied: frozenlist>=1.1.1 in /usr/local/lib/python3.10/dist-packages (from aiohttp->datasets) (1.4.1)\n",
            "Requirement already satisfied: multidict<7.0,>=4.5 in /usr/local/lib/python3.10/dist-packages (from aiohttp->datasets) (6.0.5)\n",
            "Requirement already satisfied: yarl<2.0,>=1.0 in /usr/local/lib/python3.10/dist-packages (from aiohttp->datasets) (1.9.4)\n",
            "Requirement already satisfied: async-timeout<5.0,>=4.0 in /usr/local/lib/python3.10/dist-packages (from aiohttp->datasets) (4.0.3)\n",
            "Requirement already satisfied: charset-normalizer<4,>=2 in /usr/local/lib/python3.10/dist-packages (from requests>=2.32.2->datasets) (3.3.2)\n",
            "Requirement already satisfied: idna<4,>=2.5 in /usr/local/lib/python3.10/dist-packages (from requests>=2.32.2->datasets) (3.7)\n",
            "Requirement already satisfied: urllib3<3,>=1.21.1 in /usr/local/lib/python3.10/dist-packages (from requests>=2.32.2->datasets) (2.0.7)\n",
            "Requirement already satisfied: certifi>=2017.4.17 in /usr/local/lib/python3.10/dist-packages (from requests>=2.32.2->datasets) (2024.6.2)\n",
            "Requirement already satisfied: MarkupSafe>=2.0 in /usr/local/lib/python3.10/dist-packages (from jinja2->torch) (2.1.5)\n",
            "Requirement already satisfied: python-dateutil>=2.8.2 in /usr/local/lib/python3.10/dist-packages (from pandas->datasets) (2.8.2)\n",
            "Requirement already satisfied: pytz>=2020.1 in /usr/local/lib/python3.10/dist-packages (from pandas->datasets) (2023.4)\n",
            "Requirement already satisfied: tzdata>=2022.1 in /usr/local/lib/python3.10/dist-packages (from pandas->datasets) (2024.1)\n",
            "Requirement already satisfied: mpmath<1.4.0,>=1.1.0 in /usr/local/lib/python3.10/dist-packages (from sympy->torch) (1.3.0)\n",
            "Requirement already satisfied: six>=1.5 in /usr/local/lib/python3.10/dist-packages (from python-dateutil>=2.8.2->pandas->datasets) (1.16.0)\n",
            "Installing collected packages: xxhash, requests, pyarrow, dill, multiprocess, datasets\n",
            "  Attempting uninstall: requests\n",
            "    Found existing installation: requests 2.31.0\n",
            "    Uninstalling requests-2.31.0:\n",
            "      Successfully uninstalled requests-2.31.0\n",
            "  Attempting uninstall: pyarrow\n",
            "    Found existing installation: pyarrow 14.0.2\n",
            "    Uninstalling pyarrow-14.0.2:\n",
            "      Successfully uninstalled pyarrow-14.0.2\n",
            "\u001b[31mERROR: pip's dependency resolver does not currently take into account all the packages that are installed. This behaviour is the source of the following dependency conflicts.\n",
            "cudf-cu12 24.4.1 requires pyarrow<15.0.0a0,>=14.0.1, but you have pyarrow 16.1.0 which is incompatible.\n",
            "google-colab 1.0.0 requires requests==2.31.0, but you have requests 2.32.3 which is incompatible.\n",
            "ibis-framework 8.0.0 requires pyarrow<16,>=2, but you have pyarrow 16.1.0 which is incompatible.\u001b[0m\u001b[31m\n",
            "\u001b[0mSuccessfully installed datasets-2.20.0 dill-0.3.8 multiprocess-0.70.16 pyarrow-16.1.0 requests-2.32.3 xxhash-3.4.1\n"
          ]
        }
      ]
    },
    {
      "cell_type": "code",
      "execution_count": null,
      "metadata": {
        "id": "5Al_uf-GyJix"
      },
      "outputs": [],
      "source": [
        "import pandas as pd\n",
        "import glob\n",
        "import os\n",
        "import torch\n",
        "import numpy as np\n",
        "\n",
        "from tqdm import tqdm\n",
        "from sklearn.utils import resample\n",
        "from sklearn.model_selection import train_test_split\n",
        "from transformers import AutoTokenizer\n",
        "from transformers import AutoModelForSequenceClassification, Trainer, TrainingArguments"
      ]
    },
    {
      "cell_type": "code",
      "source": [
        "from google.colab import drive\n",
        "drive.mount('/content/drive')"
      ],
      "metadata": {
        "colab": {
          "base_uri": "https://localhost:8080/"
        },
        "id": "QwNBCbyvu8n9",
        "outputId": "85792975-0d2d-4842-9b21-e0a804f398d1"
      },
      "execution_count": null,
      "outputs": [
        {
          "output_type": "stream",
          "name": "stdout",
          "text": [
            "Mounted at /content/drive\n"
          ]
        }
      ]
    },
    {
      "cell_type": "markdown",
      "source": [
        "### 쿠팡 상품평 concat"
      ],
      "metadata": {
        "id": "IdPCcPcuzvhh"
      }
    },
    {
      "cell_type": "code",
      "source": [
        "# 현재 디렉토리의 \"product_kurly_review\"로 시작하는 모든 CSV 파일 경로 가져오기\n",
        "csv_files = glob.glob(os.path.join(os.getcwd(), \"product_coupang*.csv\"))\n",
        "\n",
        "# 각 CSV 파일을 읽어서 리스트에 추가\n",
        "dataframes = []\n",
        "for file in csv_files:\n",
        "    df = pd.read_csv(file)\n",
        "    dataframes.append(df)\n",
        "\n",
        "# 모든 데이터프레임을 하나로 연결\n",
        "combined_df = pd.concat(dataframes, ignore_index=True)\n",
        "\n",
        "# 결과 출력 또는 저장\n",
        "print(combined_df.head())\n",
        "combined_df.to_csv('combined_coupang_reviews.csv', index=False)"
      ],
      "metadata": {
        "colab": {
          "base_uri": "https://localhost:8080/"
        },
        "id": "3KWfP1h3zvEF",
        "outputId": "b8004cc7-6536-4d2d-b777-ef68148da634"
      },
      "execution_count": null,
      "outputs": [
        {
          "output_type": "stream",
          "name": "stdout",
          "text": [
            "                                                 url  \\\n",
            "0  https://www.coupang.com/vp/products/6586372374...   \n",
            "1  https://www.coupang.com/vp/products/6586372374...   \n",
            "2  https://www.coupang.com/vp/products/6586372374...   \n",
            "3  https://www.coupang.com/vp/products/6586372374...   \n",
            "4  https://www.coupang.com/vp/products/6586372374...   \n",
            "\n",
            "                                              review review_date  rate  \\\n",
            "0  종근당건강 프로메가 오메가3 트리플 장용성, 60정, 1개 후기.\\n\\n요새 눈이 ...  2024.06.17     5   \n",
            "1  <내돈내산 솔직후기>\\n저의 솔직한 리뷰가 구매하시는 분들께 도움이 되길 바랍니다❤...  2024.06.16     5   \n",
            "2  저희집 오메가입니다.\\n가족들 모두 오메가를 먹는데 어취향 장난아녔거든요.\\n일부러...  2024.06.14     5   \n",
            "3  안녕하세요.\\n최대한 솔직한 후기를 쓰기 위해 노력하고 있습니다.\\n많은 참고가 되...  2024.06.14     5   \n",
            "4  안녕하세요 :) 종근당건강 프로메가 오메가3 트리플 장용성 제품에 대한 내돈내산리뷰...  2024.06.10     5   \n",
            "\n",
            "       date      time  \n",
            "0  20240620  19:07:12  \n",
            "1  20240620  19:07:12  \n",
            "2  20240620  19:07:12  \n",
            "3  20240620  19:07:12  \n",
            "4  20240620  19:07:12  \n"
          ]
        }
      ]
    },
    {
      "cell_type": "code",
      "source": [
        "# 쿠팡 데이터 로드\n",
        "coupang_df = pd.read_csv('combined_coupang_reviews.csv')\n",
        "\n",
        "# 레이블 확인\n",
        "print(coupang_df['rate'].value_counts())\n",
        "\n",
        "# 다수 클래스와 소수 클래스 구분\n",
        "df_majority = coupang_df[coupang_df['rate'] == 5]\n",
        "df_minority_4 = coupang_df[coupang_df['rate'] == 4]\n",
        "df_minority_3 = coupang_df[coupang_df['rate'] == 3]\n",
        "df_minority_2 = coupang_df[coupang_df['rate'] == 2]\n",
        "df_minority_1 = coupang_df[coupang_df['rate'] == 1]\n",
        "\n",
        "# 다수 클래스 크기에 맞추어 소수 클래스 오버샘플링\n",
        "df_minority_4_upsampled = resample(df_minority_4,\n",
        "                                   replace=True,     # 샘플을 복제하여 오버샘플링\n",
        "                                   n_samples=len(df_majority),  # 다수 클래스 샘플 수에 맞추어 변경\n",
        "                                   random_state=42)  # 재현성을 위한 랜덤 시드 설정\n",
        "df_minority_3_upsampled = resample(df_minority_3,\n",
        "                                   replace=True,\n",
        "                                   n_samples=len(df_majority),\n",
        "                                   random_state=42)\n",
        "df_minority_2_upsampled = resample(df_minority_2,\n",
        "                                   replace=True,\n",
        "                                   n_samples=len(df_majority),\n",
        "                                   random_state=42)\n",
        "df_minority_1_upsampled = resample(df_minority_1,\n",
        "                                   replace=True,\n",
        "                                   n_samples=len(df_majority),\n",
        "                                   random_state=42)\n",
        "\n",
        "# 오버샘플링된 데이터프레임 결합\n",
        "df_upsampled = pd.concat([df_majority, df_minority_4_upsampled, df_minority_3_upsampled, df_minority_2_upsampled, df_minority_1_upsampled])\n",
        "\n",
        "# 데이터 확인\n",
        "print(df_upsampled['rate'].value_counts())\n",
        "df_upsampled.to_csv('coupang_reviews_oversampled.csv', index=False)"
      ],
      "metadata": {
        "colab": {
          "base_uri": "https://localhost:8080/"
        },
        "id": "QlAT7deK0VsA",
        "outputId": "7952a1b4-aff2-47f7-d7fd-1f945342686b"
      },
      "execution_count": null,
      "outputs": [
        {
          "output_type": "stream",
          "name": "stdout",
          "text": [
            "rate\n",
            "5    11273\n",
            "4      827\n",
            "3       94\n",
            "1       56\n",
            "2       31\n",
            "Name: count, dtype: int64\n",
            "rate\n",
            "5    11273\n",
            "4    11273\n",
            "3    11273\n",
            "2    11273\n",
            "1    11273\n",
            "Name: count, dtype: int64\n"
          ]
        }
      ]
    },
    {
      "cell_type": "code",
      "source": [
        "!nvidia-smi"
      ],
      "metadata": {
        "colab": {
          "base_uri": "https://localhost:8080/"
        },
        "id": "Wu9_wlio0Vm3",
        "outputId": "3ddedf0f-4109-485a-b91e-2fde92801089"
      },
      "execution_count": null,
      "outputs": [
        {
          "output_type": "stream",
          "name": "stdout",
          "text": [
            "Mon Jun 24 08:03:38 2024       \n",
            "+---------------------------------------------------------------------------------------+\n",
            "| NVIDIA-SMI 535.104.05             Driver Version: 535.104.05   CUDA Version: 12.2     |\n",
            "|-----------------------------------------+----------------------+----------------------+\n",
            "| GPU  Name                 Persistence-M | Bus-Id        Disp.A | Volatile Uncorr. ECC |\n",
            "| Fan  Temp   Perf          Pwr:Usage/Cap |         Memory-Usage | GPU-Util  Compute M. |\n",
            "|                                         |                      |               MIG M. |\n",
            "|=========================================+======================+======================|\n",
            "|   0  Tesla T4                       Off | 00000000:00:04.0 Off |                    0 |\n",
            "| N/A   38C    P8               9W /  70W |      0MiB / 15360MiB |      0%      Default |\n",
            "|                                         |                      |                  N/A |\n",
            "+-----------------------------------------+----------------------+----------------------+\n",
            "                                                                                         \n",
            "+---------------------------------------------------------------------------------------+\n",
            "| Processes:                                                                            |\n",
            "|  GPU   GI   CI        PID   Type   Process name                            GPU Memory |\n",
            "|        ID   ID                                                             Usage      |\n",
            "|=======================================================================================|\n",
            "|  No running processes found                                                           |\n",
            "+---------------------------------------------------------------------------------------+\n"
          ]
        }
      ]
    },
    {
      "cell_type": "code",
      "source": [
        "os.environ[\"CUDA_LAUNCH_BLOCKING\"] = \"1\"\n",
        "\n",
        "# 데이터 불러오기\n",
        "data = pd.read_csv('coupang_reviews_oversampled.csv')\n",
        "\n",
        "# 텍스트와 라벨 분리\n",
        "texts = data['review'].tolist()\n",
        "labels = data['rate'].tolist()\n",
        "\n",
        "# 라벨 값 확인 및 변환 (1~5 -> 0~4)\n",
        "labels = [label - 1 for label in labels]\n",
        "print(f\"Unique labels in dataset: {np.unique(labels)}\")\n",
        "\n",
        "# 학습/검증 데이터셋 분리\n",
        "train_texts, val_texts, train_labels, val_labels = train_test_split(texts, labels, test_size=0.2, random_state=42)\n",
        "\n",
        "# 토크나이저 초기화\n",
        "tokenizer = AutoTokenizer.from_pretrained(\"beomi/KcELECTRA-base-v2022\")\n",
        "\n",
        "# 토큰화 함수 정의\n",
        "def tokenize_function(texts):\n",
        "    return tokenizer(texts, padding=\"max_length\", truncation=True, return_tensors='pt')\n",
        "\n",
        "# 데이터 토큰화\n",
        "train_encodings = tokenize_function(train_texts)\n",
        "val_encodings = tokenize_function(val_texts)\n",
        "\n",
        "class ReviewsDataset(torch.utils.data.Dataset):\n",
        "    def __init__(self, encodings, labels):\n",
        "        self.encodings = encodings\n",
        "        self.labels = labels\n",
        "\n",
        "    def __getitem__(self, idx):\n",
        "        item = {key: torch.tensor(val[idx]) for key, val in self.encodings.items()}\n",
        "        item['labels'] = torch.tensor(self.labels[idx])\n",
        "        return item\n",
        "\n",
        "    def __len__(self):\n",
        "        return len(self.labels)\n",
        "\n",
        "train_dataset = ReviewsDataset(train_encodings, train_labels)\n",
        "val_dataset = ReviewsDataset(val_encodings, val_labels)"
      ],
      "metadata": {
        "colab": {
          "base_uri": "https://localhost:8080/"
        },
        "id": "-5DCRo470VfU",
        "outputId": "1f63d1d7-4312-43c4-b190-6d7e93088437"
      },
      "execution_count": null,
      "outputs": [
        {
          "output_type": "stream",
          "name": "stdout",
          "text": [
            "Unique labels in dataset: [0 1 2 3 4]\n"
          ]
        },
        {
          "output_type": "stream",
          "name": "stderr",
          "text": [
            "/usr/local/lib/python3.10/dist-packages/huggingface_hub/utils/_token.py:89: UserWarning: \n",
            "The secret `HF_TOKEN` does not exist in your Colab secrets.\n",
            "To authenticate with the Hugging Face Hub, create a token in your settings tab (https://huggingface.co/settings/tokens), set it as secret in your Google Colab and restart your session.\n",
            "You will be able to reuse this secret in all of your notebooks.\n",
            "Please note that authentication is recommended but still optional to access public models or datasets.\n",
            "  warnings.warn(\n"
          ]
        }
      ]
    },
    {
      "cell_type": "code",
      "source": [
        "# 모델 로드 및 파인 튜닝\n",
        "from transformers import AutoModelForSequenceClassification, Trainer, TrainingArguments\n",
        "\n",
        "# 모델 로드\n",
        "model = AutoModelForSequenceClassification.from_pretrained(\"beomi/KcELECTRA-base-v2022\", num_labels=5)\n",
        "\n",
        "# 훈련 인자 설정\n",
        "training_args = TrainingArguments(\n",
        "    output_dir='./results',\n",
        "    eval_strategy=\"epoch\",\n",
        "    learning_rate=2e-5,\n",
        "    per_device_train_batch_size=16,\n",
        "    per_device_eval_batch_size=16,\n",
        "    num_train_epochs=3,\n",
        "    weight_decay=0.01,\n",
        "    logging_dir='./logs',\n",
        "    logging_steps=10,\n",
        ")\n",
        "\n",
        "# 트레이너 설정\n",
        "trainer = Trainer(\n",
        "    model=model,\n",
        "    args=training_args,\n",
        "    train_dataset=train_dataset,\n",
        "    eval_dataset=val_dataset,\n",
        ")\n",
        "\n",
        "# 모델 학습\n",
        "trainer.train()\n",
        "\n",
        "# 모델 저장\n",
        "model.save_pretrained('./fine_tuned_model')\n",
        "tokenizer.save_pretrained('./fine_tuned_model')\n",
        "\n",
        "# 모델 평가\n",
        "trainer.evaluate()\n"
      ],
      "metadata": {
        "colab": {
          "base_uri": "https://localhost:8080/",
          "height": 956
        },
        "id": "BXdELNSLA9cI",
        "outputId": "0c3929aa-678f-466b-b32d-b05fc21b77fd"
      },
      "execution_count": null,
      "outputs": [
        {
          "output_type": "stream",
          "name": "stderr",
          "text": [
            "Some weights of ElectraForSequenceClassification were not initialized from the model checkpoint at beomi/KcELECTRA-base-v2022 and are newly initialized: ['classifier.dense.bias', 'classifier.dense.weight', 'classifier.out_proj.bias', 'classifier.out_proj.weight']\n",
            "You should probably TRAIN this model on a down-stream task to be able to use it for predictions and inference.\n",
            "/usr/local/lib/python3.10/dist-packages/transformers/training_args.py:1474: FutureWarning: `evaluation_strategy` is deprecated and will be removed in version 4.46 of 🤗 Transformers. Use `eval_strategy` instead\n",
            "  warnings.warn(\n",
            "<ipython-input-8-0d426bb4f98d>:34: UserWarning: To copy construct from a tensor, it is recommended to use sourceTensor.clone().detach() or sourceTensor.clone().detach().requires_grad_(True), rather than torch.tensor(sourceTensor).\n",
            "  item = {key: torch.tensor(val[idx]) for key, val in self.encodings.items()}\n"
          ]
        },
        {
          "output_type": "display_data",
          "data": {
            "text/plain": [
              "<IPython.core.display.HTML object>"
            ],
            "text/html": [
              "\n",
              "    <div>\n",
              "      \n",
              "      <progress value='8457' max='8457' style='width:300px; height:20px; vertical-align: middle;'></progress>\n",
              "      [8457/8457 4:06:45, Epoch 3/3]\n",
              "    </div>\n",
              "    <table border=\"1\" class=\"dataframe\">\n",
              "  <thead>\n",
              " <tr style=\"text-align: left;\">\n",
              "      <th>Epoch</th>\n",
              "      <th>Training Loss</th>\n",
              "      <th>Validation Loss</th>\n",
              "    </tr>\n",
              "  </thead>\n",
              "  <tbody>\n",
              "    <tr>\n",
              "      <td>1</td>\n",
              "      <td>0.000300</td>\n",
              "      <td>0.003116</td>\n",
              "    </tr>\n",
              "    <tr>\n",
              "      <td>2</td>\n",
              "      <td>0.000100</td>\n",
              "      <td>0.002620</td>\n",
              "    </tr>\n",
              "    <tr>\n",
              "      <td>3</td>\n",
              "      <td>0.000000</td>\n",
              "      <td>0.003195</td>\n",
              "    </tr>\n",
              "  </tbody>\n",
              "</table><p>"
            ]
          },
          "metadata": {}
        },
        {
          "output_type": "stream",
          "name": "stderr",
          "text": [
            "<ipython-input-8-0d426bb4f98d>:34: UserWarning: To copy construct from a tensor, it is recommended to use sourceTensor.clone().detach() or sourceTensor.clone().detach().requires_grad_(True), rather than torch.tensor(sourceTensor).\n",
            "  item = {key: torch.tensor(val[idx]) for key, val in self.encodings.items()}\n",
            "<ipython-input-8-0d426bb4f98d>:34: UserWarning: To copy construct from a tensor, it is recommended to use sourceTensor.clone().detach() or sourceTensor.clone().detach().requires_grad_(True), rather than torch.tensor(sourceTensor).\n",
            "  item = {key: torch.tensor(val[idx]) for key, val in self.encodings.items()}\n",
            "<ipython-input-8-0d426bb4f98d>:34: UserWarning: To copy construct from a tensor, it is recommended to use sourceTensor.clone().detach() or sourceTensor.clone().detach().requires_grad_(True), rather than torch.tensor(sourceTensor).\n",
            "  item = {key: torch.tensor(val[idx]) for key, val in self.encodings.items()}\n",
            "<ipython-input-8-0d426bb4f98d>:34: UserWarning: To copy construct from a tensor, it is recommended to use sourceTensor.clone().detach() or sourceTensor.clone().detach().requires_grad_(True), rather than torch.tensor(sourceTensor).\n",
            "  item = {key: torch.tensor(val[idx]) for key, val in self.encodings.items()}\n",
            "<ipython-input-8-0d426bb4f98d>:34: UserWarning: To copy construct from a tensor, it is recommended to use sourceTensor.clone().detach() or sourceTensor.clone().detach().requires_grad_(True), rather than torch.tensor(sourceTensor).\n",
            "  item = {key: torch.tensor(val[idx]) for key, val in self.encodings.items()}\n",
            "<ipython-input-8-0d426bb4f98d>:34: UserWarning: To copy construct from a tensor, it is recommended to use sourceTensor.clone().detach() or sourceTensor.clone().detach().requires_grad_(True), rather than torch.tensor(sourceTensor).\n",
            "  item = {key: torch.tensor(val[idx]) for key, val in self.encodings.items()}\n",
            "<ipython-input-8-0d426bb4f98d>:34: UserWarning: To copy construct from a tensor, it is recommended to use sourceTensor.clone().detach() or sourceTensor.clone().detach().requires_grad_(True), rather than torch.tensor(sourceTensor).\n",
            "  item = {key: torch.tensor(val[idx]) for key, val in self.encodings.items()}\n",
            "<ipython-input-8-0d426bb4f98d>:34: UserWarning: To copy construct from a tensor, it is recommended to use sourceTensor.clone().detach() or sourceTensor.clone().detach().requires_grad_(True), rather than torch.tensor(sourceTensor).\n",
            "  item = {key: torch.tensor(val[idx]) for key, val in self.encodings.items()}\n",
            "<ipython-input-8-0d426bb4f98d>:34: UserWarning: To copy construct from a tensor, it is recommended to use sourceTensor.clone().detach() or sourceTensor.clone().detach().requires_grad_(True), rather than torch.tensor(sourceTensor).\n",
            "  item = {key: torch.tensor(val[idx]) for key, val in self.encodings.items()}\n",
            "<ipython-input-8-0d426bb4f98d>:34: UserWarning: To copy construct from a tensor, it is recommended to use sourceTensor.clone().detach() or sourceTensor.clone().detach().requires_grad_(True), rather than torch.tensor(sourceTensor).\n",
            "  item = {key: torch.tensor(val[idx]) for key, val in self.encodings.items()}\n",
            "<ipython-input-8-0d426bb4f98d>:34: UserWarning: To copy construct from a tensor, it is recommended to use sourceTensor.clone().detach() or sourceTensor.clone().detach().requires_grad_(True), rather than torch.tensor(sourceTensor).\n",
            "  item = {key: torch.tensor(val[idx]) for key, val in self.encodings.items()}\n",
            "<ipython-input-8-0d426bb4f98d>:34: UserWarning: To copy construct from a tensor, it is recommended to use sourceTensor.clone().detach() or sourceTensor.clone().detach().requires_grad_(True), rather than torch.tensor(sourceTensor).\n",
            "  item = {key: torch.tensor(val[idx]) for key, val in self.encodings.items()}\n",
            "<ipython-input-8-0d426bb4f98d>:34: UserWarning: To copy construct from a tensor, it is recommended to use sourceTensor.clone().detach() or sourceTensor.clone().detach().requires_grad_(True), rather than torch.tensor(sourceTensor).\n",
            "  item = {key: torch.tensor(val[idx]) for key, val in self.encodings.items()}\n",
            "<ipython-input-8-0d426bb4f98d>:34: UserWarning: To copy construct from a tensor, it is recommended to use sourceTensor.clone().detach() or sourceTensor.clone().detach().requires_grad_(True), rather than torch.tensor(sourceTensor).\n",
            "  item = {key: torch.tensor(val[idx]) for key, val in self.encodings.items()}\n",
            "<ipython-input-8-0d426bb4f98d>:34: UserWarning: To copy construct from a tensor, it is recommended to use sourceTensor.clone().detach() or sourceTensor.clone().detach().requires_grad_(True), rather than torch.tensor(sourceTensor).\n",
            "  item = {key: torch.tensor(val[idx]) for key, val in self.encodings.items()}\n",
            "<ipython-input-8-0d426bb4f98d>:34: UserWarning: To copy construct from a tensor, it is recommended to use sourceTensor.clone().detach() or sourceTensor.clone().detach().requires_grad_(True), rather than torch.tensor(sourceTensor).\n",
            "  item = {key: torch.tensor(val[idx]) for key, val in self.encodings.items()}\n"
          ]
        },
        {
          "output_type": "display_data",
          "data": {
            "text/plain": [
              "<IPython.core.display.HTML object>"
            ],
            "text/html": [
              "\n",
              "    <div>\n",
              "      \n",
              "      <progress value='705' max='705' style='width:300px; height:20px; vertical-align: middle;'></progress>\n",
              "      [705/705 06:30]\n",
              "    </div>\n",
              "    "
            ]
          },
          "metadata": {}
        },
        {
          "output_type": "execute_result",
          "data": {
            "text/plain": [
              "{'eval_loss': 0.003195264609530568,\n",
              " 'eval_runtime': 391.1555,\n",
              " 'eval_samples_per_second': 28.82,\n",
              " 'eval_steps_per_second': 1.802,\n",
              " 'epoch': 3.0}"
            ]
          },
          "metadata": {},
          "execution_count": 9
        }
      ]
    },
    {
      "cell_type": "code",
      "source": [
        "from google.colab import files\n",
        "\n",
        "# 로컬 사용 또는 런타임 에러 대비용 파일 압축\n",
        "!zip -r fine_tuned_model.zip ./fine_tuned_model\n",
        "\n",
        "# 모델 파일 다운로드\n",
        "files.download('fine_tuned_model.zip')"
      ],
      "metadata": {
        "colab": {
          "base_uri": "https://localhost:8080/",
          "height": 156
        },
        "id": "xb0SlomoEK56",
        "outputId": "5f689145-cc10-4d5c-e6ea-34d2852ce8a5"
      },
      "execution_count": null,
      "outputs": [
        {
          "output_type": "stream",
          "name": "stdout",
          "text": [
            "  adding: fine_tuned_model/ (stored 0%)\n",
            "  adding: fine_tuned_model/tokenizer.json (deflated 70%)\n",
            "  adding: fine_tuned_model/model.safetensors (deflated 7%)\n",
            "  adding: fine_tuned_model/config.json (deflated 55%)\n",
            "  adding: fine_tuned_model/special_tokens_map.json (deflated 42%)\n",
            "  adding: fine_tuned_model/tokenizer_config.json (deflated 75%)\n",
            "  adding: fine_tuned_model/vocab.txt (deflated 52%)\n"
          ]
        },
        {
          "output_type": "display_data",
          "data": {
            "text/plain": [
              "<IPython.core.display.Javascript object>"
            ],
            "application/javascript": [
              "\n",
              "    async function download(id, filename, size) {\n",
              "      if (!google.colab.kernel.accessAllowed) {\n",
              "        return;\n",
              "      }\n",
              "      const div = document.createElement('div');\n",
              "      const label = document.createElement('label');\n",
              "      label.textContent = `Downloading \"${filename}\": `;\n",
              "      div.appendChild(label);\n",
              "      const progress = document.createElement('progress');\n",
              "      progress.max = size;\n",
              "      div.appendChild(progress);\n",
              "      document.body.appendChild(div);\n",
              "\n",
              "      const buffers = [];\n",
              "      let downloaded = 0;\n",
              "\n",
              "      const channel = await google.colab.kernel.comms.open(id);\n",
              "      // Send a message to notify the kernel that we're ready.\n",
              "      channel.send({})\n",
              "\n",
              "      for await (const message of channel.messages) {\n",
              "        // Send a message to notify the kernel that we're ready.\n",
              "        channel.send({})\n",
              "        if (message.buffers) {\n",
              "          for (const buffer of message.buffers) {\n",
              "            buffers.push(buffer);\n",
              "            downloaded += buffer.byteLength;\n",
              "            progress.value = downloaded;\n",
              "          }\n",
              "        }\n",
              "      }\n",
              "      const blob = new Blob(buffers, {type: 'application/binary'});\n",
              "      const a = document.createElement('a');\n",
              "      a.href = window.URL.createObjectURL(blob);\n",
              "      a.download = filename;\n",
              "      div.appendChild(a);\n",
              "      a.click();\n",
              "      div.remove();\n",
              "    }\n",
              "  "
            ]
          },
          "metadata": {}
        },
        {
          "output_type": "display_data",
          "data": {
            "text/plain": [
              "<IPython.core.display.Javascript object>"
            ],
            "application/javascript": [
              "download(\"download_1329165b-4f8b-4e7b-ae13-e0bd64c730c4\", \"fine_tuned_model.zip\", 474526790)"
            ]
          },
          "metadata": {}
        }
      ]
    },
    {
      "cell_type": "markdown",
      "source": [
        "## 기존 분석모델과의 비교 진행"
      ],
      "metadata": {
        "id": "P8vAQPuNAftH"
      }
    },
    {
      "cell_type": "code",
      "source": [
        "# 현재 디렉토리의 모든 CSV 파일 경로 가져오기\n",
        "csv_files = glob.glob(os.path.join(os.getcwd(), \"*.csv\"))\n",
        "\n",
        "# 토크나이저 로드\n",
        "tokenizer = AutoTokenizer.from_pretrained('/content/drive/MyDrive/Colab Notebooks/fine_tuned_model')\n",
        "\n",
        "# 모델 로드\n",
        "model = AutoModelForSequenceClassification.from_pretrained('/content/drive/MyDrive/Colab Notebooks/fine_tuned_model')\n",
        "model.eval()\n",
        "\n",
        "# 배치 크기를 256로 설정 => 첫트라이 32의 2^3 => 시스템RAM 사용량 피크 11.1gb\n",
        "batch_size = 256\n",
        "\n",
        "# 모든 CSV 파일에 대해 예측 수행 및 저장\n",
        "for file in csv_files:\n",
        "    # 데이터 로드\n",
        "    data = pd.read_csv(file)\n",
        "\n",
        "    # 결과 저장을 위한 리스트\n",
        "    predicted_labels = []\n",
        "\n",
        "    # 배치 처리\n",
        "    for i in tqdm(range(0, len(data), batch_size)):\n",
        "        # 배치 추출\n",
        "        batch_texts = data['review_text'][i:i+batch_size].tolist()\n",
        "\n",
        "        # 텍스트 토큰화\n",
        "        new_encodings = tokenizer(batch_texts, padding=True, truncation=True, return_tensors='pt')\n",
        "\n",
        "        # 예측 수행\n",
        "        with torch.no_grad():\n",
        "            outputs = model(**new_encodings)\n",
        "\n",
        "        # 로짓(logits) 추출\n",
        "        logits = outputs.logits\n",
        "\n",
        "        # 예측된 레이블\n",
        "        batch_predicted_labels = torch.argmax(logits, dim=1).cpu().numpy()\n",
        "        # 예측된 레이블을 원래의 레이블 값으로 변환 (0~4 -> 1~5)\n",
        "        batch_predicted_labels = batch_predicted_labels + 1\n",
        "\n",
        "        # 예측된 레이블을 결과 리스트에 추가\n",
        "        predicted_labels.extend(batch_predicted_labels)\n",
        "\n",
        "    # 데이터에 예측된 레이블 추가\n",
        "    data['predicted_rate'] = predicted_labels\n",
        "\n",
        "    # 결과 저장\n",
        "    new_filename = os.path.splitext(file)[0] + '_finetunning_sentiment.csv'\n",
        "    data.to_csv(new_filename, index=False)"
      ],
      "metadata": {
        "colab": {
          "base_uri": "https://localhost:8080/"
        },
        "id": "tFM4a9D1t-FY",
        "outputId": "858ca471-cd5d-4e8e-8f7f-c694a1ebb8a2"
      },
      "execution_count": null,
      "outputs": [
        {
          "output_type": "stream",
          "name": "stderr",
          "text": [
            "100%|██████████| 7/7 [34:35<00:00, 296.52s/it]\n",
            "100%|██████████| 7/7 [37:11<00:00, 318.72s/it]\n",
            "100%|██████████| 8/8 [43:20<00:00, 325.00s/it]\n"
          ]
        }
      ]
    },
    {
      "cell_type": "code",
      "source": [
        "# 새로운 데이터셋 로드\n",
        "new_data = pd.read_csv('product_coupang_review_2024H1.csv')\n",
        "\n",
        "# 토크나이저 로드\n",
        "tokenizer = AutoTokenizer.from_pretrained('/content/drive/MyDrive/Colab Notebooks/fine_tuned_model')\n",
        "\n",
        "# 모델 로드\n",
        "model = AutoModelForSequenceClassification.from_pretrained('/content/drive/MyDrive/Colab Notebooks/fine_tuned_model')\n",
        "model.eval()\n",
        "\n",
        "# 배치 크기 설정 - 첫트라이 - 38분\n",
        "batch_size = 32\n",
        "\n",
        "# 결과 저장을 위한 리스트\n",
        "predicted_labels = []\n",
        "\n",
        "# 배치 처리\n",
        "for i in tqdm(range(0, len(new_data), batch_size)):\n",
        "    # 배치 추출\n",
        "    batch_texts = new_data['review'][i:i+batch_size].tolist()\n",
        "\n",
        "    # 텍스트 토큰화\n",
        "    new_encodings = tokenizer(batch_texts, padding=True, truncation=True, return_tensors='pt')\n",
        "\n",
        "    # 예측 수행\n",
        "    with torch.no_grad():\n",
        "        outputs = model(**new_encodings)\n",
        "\n",
        "    # 로짓(logits) 추출\n",
        "    logits = outputs.logits\n",
        "\n",
        "    # 예측된 레이블\n",
        "    batch_predicted_labels = torch.argmax(logits, dim=1).cpu().numpy()\n",
        "    # 예측된 레이블을 원래의 레이블 값으로 변환 (0~4 -> 1~5)\n",
        "    batch_predicted_labels = batch_predicted_labels + 1\n",
        "\n",
        "    # 예측된 레이블을 결과 리스트에 추가\n",
        "    predicted_labels.extend(batch_predicted_labels)\n",
        "\n",
        "# 새로운 데이터셋에 예측된 레이블 추가\n",
        "new_data['predicted_rate'] = predicted_labels\n",
        "\n",
        "# 결과 저장\n",
        "new_data.to_csv('product_coupang_review_2024H1_finetunning_sentiment.csv', index=False)"
      ],
      "metadata": {
        "colab": {
          "base_uri": "https://localhost:8080/"
        },
        "id": "q4ll0D0C9FoM",
        "outputId": "c874192a-9573-4d9d-d887-95503ab02d13"
      },
      "execution_count": null,
      "outputs": [
        {
          "output_type": "stream",
          "name": "stderr",
          "text": [
            "100%|██████████| 35/35 [38:56<00:00, 66.76s/it]\n"
          ]
        }
      ]
    },
    {
      "cell_type": "code",
      "source": [
        "# 새로운 데이터셋 로드\n",
        "new_data = pd.read_csv('product_coupang_review_2024H1.csv')\n",
        "\n",
        "# 토크나이저 로드\n",
        "tokenizer = AutoTokenizer.from_pretrained('/content/drive/MyDrive/Colab Notebooks/fine_tuned_model')\n",
        "\n",
        "# 모델 로드\n",
        "model = AutoModelForSequenceClassification.from_pretrained('/content/drive/MyDrive/Colab Notebooks/fine_tuned_model')\n",
        "model.eval()\n",
        "\n",
        "# 배치 크기 설정 - 첫트라이 - 38분\n",
        "batch_size = 32\n",
        "\n",
        "# 결과 저장을 위한 리스트\n",
        "predicted_labels = []\n",
        "\n",
        "# 배치 처리\n",
        "for i in tqdm(range(0, len(new_data), batch_size)):\n",
        "    # 배치 추출\n",
        "    batch_texts = new_data['review'][i:i+batch_size].tolist()\n",
        "\n",
        "    # 텍스트 토큰화\n",
        "    new_encodings = tokenizer(batch_texts, padding=True, truncation=True, return_tensors='pt')\n",
        "\n",
        "    # 예측 수행\n",
        "    with torch.no_grad():\n",
        "        outputs = model(**new_encodings)\n",
        "\n",
        "    # 로짓(logits) 추출\n",
        "    logits = outputs.logits\n",
        "\n",
        "    # 예측된 레이블\n",
        "    batch_predicted_labels = torch.argmax(logits, dim=1).cpu().numpy()\n",
        "    # 예측된 레이블을 원래의 레이블 값으로 변환 (0~4 -> 1~5)\n",
        "    batch_predicted_labels = batch_predicted_labels + 1\n",
        "\n",
        "    # 예측된 레이블을 결과 리스트에 추가\n",
        "    predicted_labels.extend(batch_predicted_labels)\n",
        "\n",
        "# 새로운 데이터셋에 예측된 레이블 추가\n",
        "new_data['predicted_rate'] = predicted_labels\n",
        "\n",
        "# 결과 저장\n",
        "new_data.to_csv('product_coupang_review_2024H1_finetunning_sentiment.csv', index=False)"
      ],
      "metadata": {
        "colab": {
          "base_uri": "https://localhost:8080/",
          "height": 373
        },
        "id": "G-yFjB_qmLsi",
        "outputId": "e1c8cfa4-018b-4753-acb1-5e5d43532845"
      },
      "execution_count": null,
      "outputs": [
        {
          "output_type": "stream",
          "name": "stderr",
          "text": [
            " 86%|████████▌ | 30/35 [39:08<06:31, 78.28s/it]\n"
          ]
        },
        {
          "output_type": "error",
          "ename": "KeyboardInterrupt",
          "evalue": "",
          "traceback": [
            "\u001b[0;31m---------------------------------------------------------------------------\u001b[0m",
            "\u001b[0;31mKeyboardInterrupt\u001b[0m                         Traceback (most recent call last)",
            "\u001b[0;32m<ipython-input-4-38a685a2966c>\u001b[0m in \u001b[0;36m<cell line: 18>\u001b[0;34m()\u001b[0m\n\u001b[1;32m     25\u001b[0m     \u001b[0;31m# 예측 수행\u001b[0m\u001b[0;34m\u001b[0m\u001b[0;34m\u001b[0m\u001b[0m\n\u001b[1;32m     26\u001b[0m     \u001b[0;32mwith\u001b[0m \u001b[0mtorch\u001b[0m\u001b[0;34m.\u001b[0m\u001b[0mno_grad\u001b[0m\u001b[0;34m(\u001b[0m\u001b[0;34m)\u001b[0m\u001b[0;34m:\u001b[0m\u001b[0;34m\u001b[0m\u001b[0;34m\u001b[0m\u001b[0m\n\u001b[0;32m---> 27\u001b[0;31m         \u001b[0moutputs\u001b[0m \u001b[0;34m=\u001b[0m \u001b[0mmodel\u001b[0m\u001b[0;34m(\u001b[0m\u001b[0;34m**\u001b[0m\u001b[0mnew_encodings\u001b[0m\u001b[0;34m)\u001b[0m\u001b[0;34m\u001b[0m\u001b[0;34m\u001b[0m\u001b[0m\n\u001b[0m\u001b[1;32m     28\u001b[0m \u001b[0;34m\u001b[0m\u001b[0m\n\u001b[1;32m     29\u001b[0m     \u001b[0;31m# 로짓(logits) 추출\u001b[0m\u001b[0;34m\u001b[0m\u001b[0;34m\u001b[0m\u001b[0m\n",
            "\u001b[0;32m/usr/local/lib/python3.10/dist-packages/torch/nn/modules/module.py\u001b[0m in \u001b[0;36m_wrapped_call_impl\u001b[0;34m(self, *args, **kwargs)\u001b[0m\n\u001b[1;32m   1530\u001b[0m             \u001b[0;32mreturn\u001b[0m \u001b[0mself\u001b[0m\u001b[0;34m.\u001b[0m\u001b[0m_compiled_call_impl\u001b[0m\u001b[0;34m(\u001b[0m\u001b[0;34m*\u001b[0m\u001b[0margs\u001b[0m\u001b[0;34m,\u001b[0m \u001b[0;34m**\u001b[0m\u001b[0mkwargs\u001b[0m\u001b[0;34m)\u001b[0m  \u001b[0;31m# type: ignore[misc]\u001b[0m\u001b[0;34m\u001b[0m\u001b[0;34m\u001b[0m\u001b[0m\n\u001b[1;32m   1531\u001b[0m         \u001b[0;32melse\u001b[0m\u001b[0;34m:\u001b[0m\u001b[0;34m\u001b[0m\u001b[0;34m\u001b[0m\u001b[0m\n\u001b[0;32m-> 1532\u001b[0;31m             \u001b[0;32mreturn\u001b[0m \u001b[0mself\u001b[0m\u001b[0;34m.\u001b[0m\u001b[0m_call_impl\u001b[0m\u001b[0;34m(\u001b[0m\u001b[0;34m*\u001b[0m\u001b[0margs\u001b[0m\u001b[0;34m,\u001b[0m \u001b[0;34m**\u001b[0m\u001b[0mkwargs\u001b[0m\u001b[0;34m)\u001b[0m\u001b[0;34m\u001b[0m\u001b[0;34m\u001b[0m\u001b[0m\n\u001b[0m\u001b[1;32m   1533\u001b[0m \u001b[0;34m\u001b[0m\u001b[0m\n\u001b[1;32m   1534\u001b[0m     \u001b[0;32mdef\u001b[0m \u001b[0m_call_impl\u001b[0m\u001b[0;34m(\u001b[0m\u001b[0mself\u001b[0m\u001b[0;34m,\u001b[0m \u001b[0;34m*\u001b[0m\u001b[0margs\u001b[0m\u001b[0;34m,\u001b[0m \u001b[0;34m**\u001b[0m\u001b[0mkwargs\u001b[0m\u001b[0;34m)\u001b[0m\u001b[0;34m:\u001b[0m\u001b[0;34m\u001b[0m\u001b[0;34m\u001b[0m\u001b[0m\n",
            "\u001b[0;32m/usr/local/lib/python3.10/dist-packages/torch/nn/modules/module.py\u001b[0m in \u001b[0;36m_call_impl\u001b[0;34m(self, *args, **kwargs)\u001b[0m\n\u001b[1;32m   1539\u001b[0m                 \u001b[0;32mor\u001b[0m \u001b[0m_global_backward_pre_hooks\u001b[0m \u001b[0;32mor\u001b[0m \u001b[0m_global_backward_hooks\u001b[0m\u001b[0;34m\u001b[0m\u001b[0;34m\u001b[0m\u001b[0m\n\u001b[1;32m   1540\u001b[0m                 or _global_forward_hooks or _global_forward_pre_hooks):\n\u001b[0;32m-> 1541\u001b[0;31m             \u001b[0;32mreturn\u001b[0m \u001b[0mforward_call\u001b[0m\u001b[0;34m(\u001b[0m\u001b[0;34m*\u001b[0m\u001b[0margs\u001b[0m\u001b[0;34m,\u001b[0m \u001b[0;34m**\u001b[0m\u001b[0mkwargs\u001b[0m\u001b[0;34m)\u001b[0m\u001b[0;34m\u001b[0m\u001b[0;34m\u001b[0m\u001b[0m\n\u001b[0m\u001b[1;32m   1542\u001b[0m \u001b[0;34m\u001b[0m\u001b[0m\n\u001b[1;32m   1543\u001b[0m         \u001b[0;32mtry\u001b[0m\u001b[0;34m:\u001b[0m\u001b[0;34m\u001b[0m\u001b[0;34m\u001b[0m\u001b[0m\n",
            "\u001b[0;32m/usr/local/lib/python3.10/dist-packages/transformers/models/electra/modeling_electra.py\u001b[0m in \u001b[0;36mforward\u001b[0;34m(self, input_ids, attention_mask, token_type_ids, position_ids, head_mask, inputs_embeds, labels, output_attentions, output_hidden_states, return_dict)\u001b[0m\n\u001b[1;32m    994\u001b[0m         \u001b[0mreturn_dict\u001b[0m \u001b[0;34m=\u001b[0m \u001b[0mreturn_dict\u001b[0m \u001b[0;32mif\u001b[0m \u001b[0mreturn_dict\u001b[0m \u001b[0;32mis\u001b[0m \u001b[0;32mnot\u001b[0m \u001b[0;32mNone\u001b[0m \u001b[0;32melse\u001b[0m \u001b[0mself\u001b[0m\u001b[0;34m.\u001b[0m\u001b[0mconfig\u001b[0m\u001b[0;34m.\u001b[0m\u001b[0muse_return_dict\u001b[0m\u001b[0;34m\u001b[0m\u001b[0;34m\u001b[0m\u001b[0m\n\u001b[1;32m    995\u001b[0m \u001b[0;34m\u001b[0m\u001b[0m\n\u001b[0;32m--> 996\u001b[0;31m         discriminator_hidden_states = self.electra(\n\u001b[0m\u001b[1;32m    997\u001b[0m             \u001b[0minput_ids\u001b[0m\u001b[0;34m,\u001b[0m\u001b[0;34m\u001b[0m\u001b[0;34m\u001b[0m\u001b[0m\n\u001b[1;32m    998\u001b[0m             \u001b[0mattention_mask\u001b[0m\u001b[0;34m=\u001b[0m\u001b[0mattention_mask\u001b[0m\u001b[0;34m,\u001b[0m\u001b[0;34m\u001b[0m\u001b[0;34m\u001b[0m\u001b[0m\n",
            "\u001b[0;32m/usr/local/lib/python3.10/dist-packages/torch/nn/modules/module.py\u001b[0m in \u001b[0;36m_wrapped_call_impl\u001b[0;34m(self, *args, **kwargs)\u001b[0m\n\u001b[1;32m   1530\u001b[0m             \u001b[0;32mreturn\u001b[0m \u001b[0mself\u001b[0m\u001b[0;34m.\u001b[0m\u001b[0m_compiled_call_impl\u001b[0m\u001b[0;34m(\u001b[0m\u001b[0;34m*\u001b[0m\u001b[0margs\u001b[0m\u001b[0;34m,\u001b[0m \u001b[0;34m**\u001b[0m\u001b[0mkwargs\u001b[0m\u001b[0;34m)\u001b[0m  \u001b[0;31m# type: ignore[misc]\u001b[0m\u001b[0;34m\u001b[0m\u001b[0;34m\u001b[0m\u001b[0m\n\u001b[1;32m   1531\u001b[0m         \u001b[0;32melse\u001b[0m\u001b[0;34m:\u001b[0m\u001b[0;34m\u001b[0m\u001b[0;34m\u001b[0m\u001b[0m\n\u001b[0;32m-> 1532\u001b[0;31m             \u001b[0;32mreturn\u001b[0m \u001b[0mself\u001b[0m\u001b[0;34m.\u001b[0m\u001b[0m_call_impl\u001b[0m\u001b[0;34m(\u001b[0m\u001b[0;34m*\u001b[0m\u001b[0margs\u001b[0m\u001b[0;34m,\u001b[0m \u001b[0;34m**\u001b[0m\u001b[0mkwargs\u001b[0m\u001b[0;34m)\u001b[0m\u001b[0;34m\u001b[0m\u001b[0;34m\u001b[0m\u001b[0m\n\u001b[0m\u001b[1;32m   1533\u001b[0m \u001b[0;34m\u001b[0m\u001b[0m\n\u001b[1;32m   1534\u001b[0m     \u001b[0;32mdef\u001b[0m \u001b[0m_call_impl\u001b[0m\u001b[0;34m(\u001b[0m\u001b[0mself\u001b[0m\u001b[0;34m,\u001b[0m \u001b[0;34m*\u001b[0m\u001b[0margs\u001b[0m\u001b[0;34m,\u001b[0m \u001b[0;34m**\u001b[0m\u001b[0mkwargs\u001b[0m\u001b[0;34m)\u001b[0m\u001b[0;34m:\u001b[0m\u001b[0;34m\u001b[0m\u001b[0;34m\u001b[0m\u001b[0m\n",
            "\u001b[0;32m/usr/local/lib/python3.10/dist-packages/torch/nn/modules/module.py\u001b[0m in \u001b[0;36m_call_impl\u001b[0;34m(self, *args, **kwargs)\u001b[0m\n\u001b[1;32m   1539\u001b[0m                 \u001b[0;32mor\u001b[0m \u001b[0m_global_backward_pre_hooks\u001b[0m \u001b[0;32mor\u001b[0m \u001b[0m_global_backward_hooks\u001b[0m\u001b[0;34m\u001b[0m\u001b[0;34m\u001b[0m\u001b[0m\n\u001b[1;32m   1540\u001b[0m                 or _global_forward_hooks or _global_forward_pre_hooks):\n\u001b[0;32m-> 1541\u001b[0;31m             \u001b[0;32mreturn\u001b[0m \u001b[0mforward_call\u001b[0m\u001b[0;34m(\u001b[0m\u001b[0;34m*\u001b[0m\u001b[0margs\u001b[0m\u001b[0;34m,\u001b[0m \u001b[0;34m**\u001b[0m\u001b[0mkwargs\u001b[0m\u001b[0;34m)\u001b[0m\u001b[0;34m\u001b[0m\u001b[0;34m\u001b[0m\u001b[0m\n\u001b[0m\u001b[1;32m   1542\u001b[0m \u001b[0;34m\u001b[0m\u001b[0m\n\u001b[1;32m   1543\u001b[0m         \u001b[0;32mtry\u001b[0m\u001b[0;34m:\u001b[0m\u001b[0;34m\u001b[0m\u001b[0;34m\u001b[0m\u001b[0m\n",
            "\u001b[0;32m/usr/local/lib/python3.10/dist-packages/transformers/models/electra/modeling_electra.py\u001b[0m in \u001b[0;36mforward\u001b[0;34m(self, input_ids, attention_mask, token_type_ids, position_ids, head_mask, inputs_embeds, encoder_hidden_states, encoder_attention_mask, past_key_values, use_cache, output_attentions, output_hidden_states, return_dict)\u001b[0m\n\u001b[1;32m    908\u001b[0m             \u001b[0mhidden_states\u001b[0m \u001b[0;34m=\u001b[0m \u001b[0mself\u001b[0m\u001b[0;34m.\u001b[0m\u001b[0membeddings_project\u001b[0m\u001b[0;34m(\u001b[0m\u001b[0mhidden_states\u001b[0m\u001b[0;34m)\u001b[0m\u001b[0;34m\u001b[0m\u001b[0;34m\u001b[0m\u001b[0m\n\u001b[1;32m    909\u001b[0m \u001b[0;34m\u001b[0m\u001b[0m\n\u001b[0;32m--> 910\u001b[0;31m         hidden_states = self.encoder(\n\u001b[0m\u001b[1;32m    911\u001b[0m             \u001b[0mhidden_states\u001b[0m\u001b[0;34m,\u001b[0m\u001b[0;34m\u001b[0m\u001b[0;34m\u001b[0m\u001b[0m\n\u001b[1;32m    912\u001b[0m             \u001b[0mattention_mask\u001b[0m\u001b[0;34m=\u001b[0m\u001b[0mextended_attention_mask\u001b[0m\u001b[0;34m,\u001b[0m\u001b[0;34m\u001b[0m\u001b[0;34m\u001b[0m\u001b[0m\n",
            "\u001b[0;32m/usr/local/lib/python3.10/dist-packages/torch/nn/modules/module.py\u001b[0m in \u001b[0;36m_wrapped_call_impl\u001b[0;34m(self, *args, **kwargs)\u001b[0m\n\u001b[1;32m   1530\u001b[0m             \u001b[0;32mreturn\u001b[0m \u001b[0mself\u001b[0m\u001b[0;34m.\u001b[0m\u001b[0m_compiled_call_impl\u001b[0m\u001b[0;34m(\u001b[0m\u001b[0;34m*\u001b[0m\u001b[0margs\u001b[0m\u001b[0;34m,\u001b[0m \u001b[0;34m**\u001b[0m\u001b[0mkwargs\u001b[0m\u001b[0;34m)\u001b[0m  \u001b[0;31m# type: ignore[misc]\u001b[0m\u001b[0;34m\u001b[0m\u001b[0;34m\u001b[0m\u001b[0m\n\u001b[1;32m   1531\u001b[0m         \u001b[0;32melse\u001b[0m\u001b[0;34m:\u001b[0m\u001b[0;34m\u001b[0m\u001b[0;34m\u001b[0m\u001b[0m\n\u001b[0;32m-> 1532\u001b[0;31m             \u001b[0;32mreturn\u001b[0m \u001b[0mself\u001b[0m\u001b[0;34m.\u001b[0m\u001b[0m_call_impl\u001b[0m\u001b[0;34m(\u001b[0m\u001b[0;34m*\u001b[0m\u001b[0margs\u001b[0m\u001b[0;34m,\u001b[0m \u001b[0;34m**\u001b[0m\u001b[0mkwargs\u001b[0m\u001b[0;34m)\u001b[0m\u001b[0;34m\u001b[0m\u001b[0;34m\u001b[0m\u001b[0m\n\u001b[0m\u001b[1;32m   1533\u001b[0m \u001b[0;34m\u001b[0m\u001b[0m\n\u001b[1;32m   1534\u001b[0m     \u001b[0;32mdef\u001b[0m \u001b[0m_call_impl\u001b[0m\u001b[0;34m(\u001b[0m\u001b[0mself\u001b[0m\u001b[0;34m,\u001b[0m \u001b[0;34m*\u001b[0m\u001b[0margs\u001b[0m\u001b[0;34m,\u001b[0m \u001b[0;34m**\u001b[0m\u001b[0mkwargs\u001b[0m\u001b[0;34m)\u001b[0m\u001b[0;34m:\u001b[0m\u001b[0;34m\u001b[0m\u001b[0;34m\u001b[0m\u001b[0m\n",
            "\u001b[0;32m/usr/local/lib/python3.10/dist-packages/torch/nn/modules/module.py\u001b[0m in \u001b[0;36m_call_impl\u001b[0;34m(self, *args, **kwargs)\u001b[0m\n\u001b[1;32m   1539\u001b[0m                 \u001b[0;32mor\u001b[0m \u001b[0m_global_backward_pre_hooks\u001b[0m \u001b[0;32mor\u001b[0m \u001b[0m_global_backward_hooks\u001b[0m\u001b[0;34m\u001b[0m\u001b[0;34m\u001b[0m\u001b[0m\n\u001b[1;32m   1540\u001b[0m                 or _global_forward_hooks or _global_forward_pre_hooks):\n\u001b[0;32m-> 1541\u001b[0;31m             \u001b[0;32mreturn\u001b[0m \u001b[0mforward_call\u001b[0m\u001b[0;34m(\u001b[0m\u001b[0;34m*\u001b[0m\u001b[0margs\u001b[0m\u001b[0;34m,\u001b[0m \u001b[0;34m**\u001b[0m\u001b[0mkwargs\u001b[0m\u001b[0;34m)\u001b[0m\u001b[0;34m\u001b[0m\u001b[0;34m\u001b[0m\u001b[0m\n\u001b[0m\u001b[1;32m   1542\u001b[0m \u001b[0;34m\u001b[0m\u001b[0m\n\u001b[1;32m   1543\u001b[0m         \u001b[0;32mtry\u001b[0m\u001b[0;34m:\u001b[0m\u001b[0;34m\u001b[0m\u001b[0;34m\u001b[0m\u001b[0m\n",
            "\u001b[0;32m/usr/local/lib/python3.10/dist-packages/transformers/models/electra/modeling_electra.py\u001b[0m in \u001b[0;36mforward\u001b[0;34m(self, hidden_states, attention_mask, head_mask, encoder_hidden_states, encoder_attention_mask, past_key_values, use_cache, output_attentions, output_hidden_states, return_dict)\u001b[0m\n\u001b[1;32m    580\u001b[0m                 )\n\u001b[1;32m    581\u001b[0m             \u001b[0;32melse\u001b[0m\u001b[0;34m:\u001b[0m\u001b[0;34m\u001b[0m\u001b[0;34m\u001b[0m\u001b[0m\n\u001b[0;32m--> 582\u001b[0;31m                 layer_outputs = layer_module(\n\u001b[0m\u001b[1;32m    583\u001b[0m                     \u001b[0mhidden_states\u001b[0m\u001b[0;34m,\u001b[0m\u001b[0;34m\u001b[0m\u001b[0;34m\u001b[0m\u001b[0m\n\u001b[1;32m    584\u001b[0m                     \u001b[0mattention_mask\u001b[0m\u001b[0;34m,\u001b[0m\u001b[0;34m\u001b[0m\u001b[0;34m\u001b[0m\u001b[0m\n",
            "\u001b[0;32m/usr/local/lib/python3.10/dist-packages/torch/nn/modules/module.py\u001b[0m in \u001b[0;36m_wrapped_call_impl\u001b[0;34m(self, *args, **kwargs)\u001b[0m\n\u001b[1;32m   1530\u001b[0m             \u001b[0;32mreturn\u001b[0m \u001b[0mself\u001b[0m\u001b[0;34m.\u001b[0m\u001b[0m_compiled_call_impl\u001b[0m\u001b[0;34m(\u001b[0m\u001b[0;34m*\u001b[0m\u001b[0margs\u001b[0m\u001b[0;34m,\u001b[0m \u001b[0;34m**\u001b[0m\u001b[0mkwargs\u001b[0m\u001b[0;34m)\u001b[0m  \u001b[0;31m# type: ignore[misc]\u001b[0m\u001b[0;34m\u001b[0m\u001b[0;34m\u001b[0m\u001b[0m\n\u001b[1;32m   1531\u001b[0m         \u001b[0;32melse\u001b[0m\u001b[0;34m:\u001b[0m\u001b[0;34m\u001b[0m\u001b[0;34m\u001b[0m\u001b[0m\n\u001b[0;32m-> 1532\u001b[0;31m             \u001b[0;32mreturn\u001b[0m \u001b[0mself\u001b[0m\u001b[0;34m.\u001b[0m\u001b[0m_call_impl\u001b[0m\u001b[0;34m(\u001b[0m\u001b[0;34m*\u001b[0m\u001b[0margs\u001b[0m\u001b[0;34m,\u001b[0m \u001b[0;34m**\u001b[0m\u001b[0mkwargs\u001b[0m\u001b[0;34m)\u001b[0m\u001b[0;34m\u001b[0m\u001b[0;34m\u001b[0m\u001b[0m\n\u001b[0m\u001b[1;32m   1533\u001b[0m \u001b[0;34m\u001b[0m\u001b[0m\n\u001b[1;32m   1534\u001b[0m     \u001b[0;32mdef\u001b[0m \u001b[0m_call_impl\u001b[0m\u001b[0;34m(\u001b[0m\u001b[0mself\u001b[0m\u001b[0;34m,\u001b[0m \u001b[0;34m*\u001b[0m\u001b[0margs\u001b[0m\u001b[0;34m,\u001b[0m \u001b[0;34m**\u001b[0m\u001b[0mkwargs\u001b[0m\u001b[0;34m)\u001b[0m\u001b[0;34m:\u001b[0m\u001b[0;34m\u001b[0m\u001b[0;34m\u001b[0m\u001b[0m\n",
            "\u001b[0;32m/usr/local/lib/python3.10/dist-packages/torch/nn/modules/module.py\u001b[0m in \u001b[0;36m_call_impl\u001b[0;34m(self, *args, **kwargs)\u001b[0m\n\u001b[1;32m   1539\u001b[0m                 \u001b[0;32mor\u001b[0m \u001b[0m_global_backward_pre_hooks\u001b[0m \u001b[0;32mor\u001b[0m \u001b[0m_global_backward_hooks\u001b[0m\u001b[0;34m\u001b[0m\u001b[0;34m\u001b[0m\u001b[0m\n\u001b[1;32m   1540\u001b[0m                 or _global_forward_hooks or _global_forward_pre_hooks):\n\u001b[0;32m-> 1541\u001b[0;31m             \u001b[0;32mreturn\u001b[0m \u001b[0mforward_call\u001b[0m\u001b[0;34m(\u001b[0m\u001b[0;34m*\u001b[0m\u001b[0margs\u001b[0m\u001b[0;34m,\u001b[0m \u001b[0;34m**\u001b[0m\u001b[0mkwargs\u001b[0m\u001b[0;34m)\u001b[0m\u001b[0;34m\u001b[0m\u001b[0;34m\u001b[0m\u001b[0m\n\u001b[0m\u001b[1;32m   1542\u001b[0m \u001b[0;34m\u001b[0m\u001b[0m\n\u001b[1;32m   1543\u001b[0m         \u001b[0;32mtry\u001b[0m\u001b[0;34m:\u001b[0m\u001b[0;34m\u001b[0m\u001b[0;34m\u001b[0m\u001b[0m\n",
            "\u001b[0;32m/usr/local/lib/python3.10/dist-packages/transformers/models/electra/modeling_electra.py\u001b[0m in \u001b[0;36mforward\u001b[0;34m(self, hidden_states, attention_mask, head_mask, encoder_hidden_states, encoder_attention_mask, past_key_value, output_attentions)\u001b[0m\n\u001b[1;32m    511\u001b[0m             \u001b[0mpresent_key_value\u001b[0m \u001b[0;34m=\u001b[0m \u001b[0mpresent_key_value\u001b[0m \u001b[0;34m+\u001b[0m \u001b[0mcross_attn_present_key_value\u001b[0m\u001b[0;34m\u001b[0m\u001b[0;34m\u001b[0m\u001b[0m\n\u001b[1;32m    512\u001b[0m \u001b[0;34m\u001b[0m\u001b[0m\n\u001b[0;32m--> 513\u001b[0;31m         layer_output = apply_chunking_to_forward(\n\u001b[0m\u001b[1;32m    514\u001b[0m             \u001b[0mself\u001b[0m\u001b[0;34m.\u001b[0m\u001b[0mfeed_forward_chunk\u001b[0m\u001b[0;34m,\u001b[0m \u001b[0mself\u001b[0m\u001b[0;34m.\u001b[0m\u001b[0mchunk_size_feed_forward\u001b[0m\u001b[0;34m,\u001b[0m \u001b[0mself\u001b[0m\u001b[0;34m.\u001b[0m\u001b[0mseq_len_dim\u001b[0m\u001b[0;34m,\u001b[0m \u001b[0mattention_output\u001b[0m\u001b[0;34m\u001b[0m\u001b[0;34m\u001b[0m\u001b[0m\n\u001b[1;32m    515\u001b[0m         )\n",
            "\u001b[0;32m/usr/local/lib/python3.10/dist-packages/transformers/pytorch_utils.py\u001b[0m in \u001b[0;36mapply_chunking_to_forward\u001b[0;34m(forward_fn, chunk_size, chunk_dim, *input_tensors)\u001b[0m\n\u001b[1;32m    236\u001b[0m         \u001b[0;32mreturn\u001b[0m \u001b[0mtorch\u001b[0m\u001b[0;34m.\u001b[0m\u001b[0mcat\u001b[0m\u001b[0;34m(\u001b[0m\u001b[0moutput_chunks\u001b[0m\u001b[0;34m,\u001b[0m \u001b[0mdim\u001b[0m\u001b[0;34m=\u001b[0m\u001b[0mchunk_dim\u001b[0m\u001b[0;34m)\u001b[0m\u001b[0;34m\u001b[0m\u001b[0;34m\u001b[0m\u001b[0m\n\u001b[1;32m    237\u001b[0m \u001b[0;34m\u001b[0m\u001b[0m\n\u001b[0;32m--> 238\u001b[0;31m     \u001b[0;32mreturn\u001b[0m \u001b[0mforward_fn\u001b[0m\u001b[0;34m(\u001b[0m\u001b[0;34m*\u001b[0m\u001b[0minput_tensors\u001b[0m\u001b[0;34m)\u001b[0m\u001b[0;34m\u001b[0m\u001b[0;34m\u001b[0m\u001b[0m\n\u001b[0m\u001b[1;32m    239\u001b[0m \u001b[0;34m\u001b[0m\u001b[0m\n\u001b[1;32m    240\u001b[0m \u001b[0;34m\u001b[0m\u001b[0m\n",
            "\u001b[0;32m/usr/local/lib/python3.10/dist-packages/transformers/models/electra/modeling_electra.py\u001b[0m in \u001b[0;36mfeed_forward_chunk\u001b[0;34m(self, attention_output)\u001b[0m\n\u001b[1;32m    524\u001b[0m     \u001b[0;32mdef\u001b[0m \u001b[0mfeed_forward_chunk\u001b[0m\u001b[0;34m(\u001b[0m\u001b[0mself\u001b[0m\u001b[0;34m,\u001b[0m \u001b[0mattention_output\u001b[0m\u001b[0;34m)\u001b[0m\u001b[0;34m:\u001b[0m\u001b[0;34m\u001b[0m\u001b[0;34m\u001b[0m\u001b[0m\n\u001b[1;32m    525\u001b[0m         \u001b[0mintermediate_output\u001b[0m \u001b[0;34m=\u001b[0m \u001b[0mself\u001b[0m\u001b[0;34m.\u001b[0m\u001b[0mintermediate\u001b[0m\u001b[0;34m(\u001b[0m\u001b[0mattention_output\u001b[0m\u001b[0;34m)\u001b[0m\u001b[0;34m\u001b[0m\u001b[0;34m\u001b[0m\u001b[0m\n\u001b[0;32m--> 526\u001b[0;31m         \u001b[0mlayer_output\u001b[0m \u001b[0;34m=\u001b[0m \u001b[0mself\u001b[0m\u001b[0;34m.\u001b[0m\u001b[0moutput\u001b[0m\u001b[0;34m(\u001b[0m\u001b[0mintermediate_output\u001b[0m\u001b[0;34m,\u001b[0m \u001b[0mattention_output\u001b[0m\u001b[0;34m)\u001b[0m\u001b[0;34m\u001b[0m\u001b[0;34m\u001b[0m\u001b[0m\n\u001b[0m\u001b[1;32m    527\u001b[0m         \u001b[0;32mreturn\u001b[0m \u001b[0mlayer_output\u001b[0m\u001b[0;34m\u001b[0m\u001b[0;34m\u001b[0m\u001b[0m\n\u001b[1;32m    528\u001b[0m \u001b[0;34m\u001b[0m\u001b[0m\n",
            "\u001b[0;32m/usr/local/lib/python3.10/dist-packages/torch/nn/modules/module.py\u001b[0m in \u001b[0;36m_wrapped_call_impl\u001b[0;34m(self, *args, **kwargs)\u001b[0m\n\u001b[1;32m   1530\u001b[0m             \u001b[0;32mreturn\u001b[0m \u001b[0mself\u001b[0m\u001b[0;34m.\u001b[0m\u001b[0m_compiled_call_impl\u001b[0m\u001b[0;34m(\u001b[0m\u001b[0;34m*\u001b[0m\u001b[0margs\u001b[0m\u001b[0;34m,\u001b[0m \u001b[0;34m**\u001b[0m\u001b[0mkwargs\u001b[0m\u001b[0;34m)\u001b[0m  \u001b[0;31m# type: ignore[misc]\u001b[0m\u001b[0;34m\u001b[0m\u001b[0;34m\u001b[0m\u001b[0m\n\u001b[1;32m   1531\u001b[0m         \u001b[0;32melse\u001b[0m\u001b[0;34m:\u001b[0m\u001b[0;34m\u001b[0m\u001b[0;34m\u001b[0m\u001b[0m\n\u001b[0;32m-> 1532\u001b[0;31m             \u001b[0;32mreturn\u001b[0m \u001b[0mself\u001b[0m\u001b[0;34m.\u001b[0m\u001b[0m_call_impl\u001b[0m\u001b[0;34m(\u001b[0m\u001b[0;34m*\u001b[0m\u001b[0margs\u001b[0m\u001b[0;34m,\u001b[0m \u001b[0;34m**\u001b[0m\u001b[0mkwargs\u001b[0m\u001b[0;34m)\u001b[0m\u001b[0;34m\u001b[0m\u001b[0;34m\u001b[0m\u001b[0m\n\u001b[0m\u001b[1;32m   1533\u001b[0m \u001b[0;34m\u001b[0m\u001b[0m\n\u001b[1;32m   1534\u001b[0m     \u001b[0;32mdef\u001b[0m \u001b[0m_call_impl\u001b[0m\u001b[0;34m(\u001b[0m\u001b[0mself\u001b[0m\u001b[0;34m,\u001b[0m \u001b[0;34m*\u001b[0m\u001b[0margs\u001b[0m\u001b[0;34m,\u001b[0m \u001b[0;34m**\u001b[0m\u001b[0mkwargs\u001b[0m\u001b[0;34m)\u001b[0m\u001b[0;34m:\u001b[0m\u001b[0;34m\u001b[0m\u001b[0;34m\u001b[0m\u001b[0m\n",
            "\u001b[0;32m/usr/local/lib/python3.10/dist-packages/torch/nn/modules/module.py\u001b[0m in \u001b[0;36m_call_impl\u001b[0;34m(self, *args, **kwargs)\u001b[0m\n\u001b[1;32m   1539\u001b[0m                 \u001b[0;32mor\u001b[0m \u001b[0m_global_backward_pre_hooks\u001b[0m \u001b[0;32mor\u001b[0m \u001b[0m_global_backward_hooks\u001b[0m\u001b[0;34m\u001b[0m\u001b[0;34m\u001b[0m\u001b[0m\n\u001b[1;32m   1540\u001b[0m                 or _global_forward_hooks or _global_forward_pre_hooks):\n\u001b[0;32m-> 1541\u001b[0;31m             \u001b[0;32mreturn\u001b[0m \u001b[0mforward_call\u001b[0m\u001b[0;34m(\u001b[0m\u001b[0;34m*\u001b[0m\u001b[0margs\u001b[0m\u001b[0;34m,\u001b[0m \u001b[0;34m**\u001b[0m\u001b[0mkwargs\u001b[0m\u001b[0;34m)\u001b[0m\u001b[0;34m\u001b[0m\u001b[0;34m\u001b[0m\u001b[0m\n\u001b[0m\u001b[1;32m   1542\u001b[0m \u001b[0;34m\u001b[0m\u001b[0m\n\u001b[1;32m   1543\u001b[0m         \u001b[0;32mtry\u001b[0m\u001b[0;34m:\u001b[0m\u001b[0;34m\u001b[0m\u001b[0;34m\u001b[0m\u001b[0m\n",
            "\u001b[0;32m/usr/local/lib/python3.10/dist-packages/transformers/models/electra/modeling_electra.py\u001b[0m in \u001b[0;36mforward\u001b[0;34m(self, hidden_states, input_tensor)\u001b[0m\n\u001b[1;32m    435\u001b[0m \u001b[0;34m\u001b[0m\u001b[0m\n\u001b[1;32m    436\u001b[0m     \u001b[0;32mdef\u001b[0m \u001b[0mforward\u001b[0m\u001b[0;34m(\u001b[0m\u001b[0mself\u001b[0m\u001b[0;34m,\u001b[0m \u001b[0mhidden_states\u001b[0m\u001b[0;34m:\u001b[0m \u001b[0mtorch\u001b[0m\u001b[0;34m.\u001b[0m\u001b[0mTensor\u001b[0m\u001b[0;34m,\u001b[0m \u001b[0minput_tensor\u001b[0m\u001b[0;34m:\u001b[0m \u001b[0mtorch\u001b[0m\u001b[0;34m.\u001b[0m\u001b[0mTensor\u001b[0m\u001b[0;34m)\u001b[0m \u001b[0;34m->\u001b[0m \u001b[0mtorch\u001b[0m\u001b[0;34m.\u001b[0m\u001b[0mTensor\u001b[0m\u001b[0;34m:\u001b[0m\u001b[0;34m\u001b[0m\u001b[0;34m\u001b[0m\u001b[0m\n\u001b[0;32m--> 437\u001b[0;31m         \u001b[0mhidden_states\u001b[0m \u001b[0;34m=\u001b[0m \u001b[0mself\u001b[0m\u001b[0;34m.\u001b[0m\u001b[0mdense\u001b[0m\u001b[0;34m(\u001b[0m\u001b[0mhidden_states\u001b[0m\u001b[0;34m)\u001b[0m\u001b[0;34m\u001b[0m\u001b[0;34m\u001b[0m\u001b[0m\n\u001b[0m\u001b[1;32m    438\u001b[0m         \u001b[0mhidden_states\u001b[0m \u001b[0;34m=\u001b[0m \u001b[0mself\u001b[0m\u001b[0;34m.\u001b[0m\u001b[0mdropout\u001b[0m\u001b[0;34m(\u001b[0m\u001b[0mhidden_states\u001b[0m\u001b[0;34m)\u001b[0m\u001b[0;34m\u001b[0m\u001b[0;34m\u001b[0m\u001b[0m\n\u001b[1;32m    439\u001b[0m         \u001b[0mhidden_states\u001b[0m \u001b[0;34m=\u001b[0m \u001b[0mself\u001b[0m\u001b[0;34m.\u001b[0m\u001b[0mLayerNorm\u001b[0m\u001b[0;34m(\u001b[0m\u001b[0mhidden_states\u001b[0m \u001b[0;34m+\u001b[0m \u001b[0minput_tensor\u001b[0m\u001b[0;34m)\u001b[0m\u001b[0;34m\u001b[0m\u001b[0;34m\u001b[0m\u001b[0m\n",
            "\u001b[0;32m/usr/local/lib/python3.10/dist-packages/torch/nn/modules/module.py\u001b[0m in \u001b[0;36m_wrapped_call_impl\u001b[0;34m(self, *args, **kwargs)\u001b[0m\n\u001b[1;32m   1530\u001b[0m             \u001b[0;32mreturn\u001b[0m \u001b[0mself\u001b[0m\u001b[0;34m.\u001b[0m\u001b[0m_compiled_call_impl\u001b[0m\u001b[0;34m(\u001b[0m\u001b[0;34m*\u001b[0m\u001b[0margs\u001b[0m\u001b[0;34m,\u001b[0m \u001b[0;34m**\u001b[0m\u001b[0mkwargs\u001b[0m\u001b[0;34m)\u001b[0m  \u001b[0;31m# type: ignore[misc]\u001b[0m\u001b[0;34m\u001b[0m\u001b[0;34m\u001b[0m\u001b[0m\n\u001b[1;32m   1531\u001b[0m         \u001b[0;32melse\u001b[0m\u001b[0;34m:\u001b[0m\u001b[0;34m\u001b[0m\u001b[0;34m\u001b[0m\u001b[0m\n\u001b[0;32m-> 1532\u001b[0;31m             \u001b[0;32mreturn\u001b[0m \u001b[0mself\u001b[0m\u001b[0;34m.\u001b[0m\u001b[0m_call_impl\u001b[0m\u001b[0;34m(\u001b[0m\u001b[0;34m*\u001b[0m\u001b[0margs\u001b[0m\u001b[0;34m,\u001b[0m \u001b[0;34m**\u001b[0m\u001b[0mkwargs\u001b[0m\u001b[0;34m)\u001b[0m\u001b[0;34m\u001b[0m\u001b[0;34m\u001b[0m\u001b[0m\n\u001b[0m\u001b[1;32m   1533\u001b[0m \u001b[0;34m\u001b[0m\u001b[0m\n\u001b[1;32m   1534\u001b[0m     \u001b[0;32mdef\u001b[0m \u001b[0m_call_impl\u001b[0m\u001b[0;34m(\u001b[0m\u001b[0mself\u001b[0m\u001b[0;34m,\u001b[0m \u001b[0;34m*\u001b[0m\u001b[0margs\u001b[0m\u001b[0;34m,\u001b[0m \u001b[0;34m**\u001b[0m\u001b[0mkwargs\u001b[0m\u001b[0;34m)\u001b[0m\u001b[0;34m:\u001b[0m\u001b[0;34m\u001b[0m\u001b[0;34m\u001b[0m\u001b[0m\n",
            "\u001b[0;32m/usr/local/lib/python3.10/dist-packages/torch/nn/modules/module.py\u001b[0m in \u001b[0;36m_call_impl\u001b[0;34m(self, *args, **kwargs)\u001b[0m\n\u001b[1;32m   1539\u001b[0m                 \u001b[0;32mor\u001b[0m \u001b[0m_global_backward_pre_hooks\u001b[0m \u001b[0;32mor\u001b[0m \u001b[0m_global_backward_hooks\u001b[0m\u001b[0;34m\u001b[0m\u001b[0;34m\u001b[0m\u001b[0m\n\u001b[1;32m   1540\u001b[0m                 or _global_forward_hooks or _global_forward_pre_hooks):\n\u001b[0;32m-> 1541\u001b[0;31m             \u001b[0;32mreturn\u001b[0m \u001b[0mforward_call\u001b[0m\u001b[0;34m(\u001b[0m\u001b[0;34m*\u001b[0m\u001b[0margs\u001b[0m\u001b[0;34m,\u001b[0m \u001b[0;34m**\u001b[0m\u001b[0mkwargs\u001b[0m\u001b[0;34m)\u001b[0m\u001b[0;34m\u001b[0m\u001b[0;34m\u001b[0m\u001b[0m\n\u001b[0m\u001b[1;32m   1542\u001b[0m \u001b[0;34m\u001b[0m\u001b[0m\n\u001b[1;32m   1543\u001b[0m         \u001b[0;32mtry\u001b[0m\u001b[0;34m:\u001b[0m\u001b[0;34m\u001b[0m\u001b[0;34m\u001b[0m\u001b[0m\n",
            "\u001b[0;32m/usr/local/lib/python3.10/dist-packages/torch/nn/modules/linear.py\u001b[0m in \u001b[0;36mforward\u001b[0;34m(self, input)\u001b[0m\n\u001b[1;32m    114\u001b[0m \u001b[0;34m\u001b[0m\u001b[0m\n\u001b[1;32m    115\u001b[0m     \u001b[0;32mdef\u001b[0m \u001b[0mforward\u001b[0m\u001b[0;34m(\u001b[0m\u001b[0mself\u001b[0m\u001b[0;34m,\u001b[0m \u001b[0minput\u001b[0m\u001b[0;34m:\u001b[0m \u001b[0mTensor\u001b[0m\u001b[0;34m)\u001b[0m \u001b[0;34m->\u001b[0m \u001b[0mTensor\u001b[0m\u001b[0;34m:\u001b[0m\u001b[0;34m\u001b[0m\u001b[0;34m\u001b[0m\u001b[0m\n\u001b[0;32m--> 116\u001b[0;31m         \u001b[0;32mreturn\u001b[0m \u001b[0mF\u001b[0m\u001b[0;34m.\u001b[0m\u001b[0mlinear\u001b[0m\u001b[0;34m(\u001b[0m\u001b[0minput\u001b[0m\u001b[0;34m,\u001b[0m \u001b[0mself\u001b[0m\u001b[0;34m.\u001b[0m\u001b[0mweight\u001b[0m\u001b[0;34m,\u001b[0m \u001b[0mself\u001b[0m\u001b[0;34m.\u001b[0m\u001b[0mbias\u001b[0m\u001b[0;34m)\u001b[0m\u001b[0;34m\u001b[0m\u001b[0;34m\u001b[0m\u001b[0m\n\u001b[0m\u001b[1;32m    117\u001b[0m \u001b[0;34m\u001b[0m\u001b[0m\n\u001b[1;32m    118\u001b[0m     \u001b[0;32mdef\u001b[0m \u001b[0mextra_repr\u001b[0m\u001b[0;34m(\u001b[0m\u001b[0mself\u001b[0m\u001b[0;34m)\u001b[0m \u001b[0;34m->\u001b[0m \u001b[0mstr\u001b[0m\u001b[0;34m:\u001b[0m\u001b[0;34m\u001b[0m\u001b[0;34m\u001b[0m\u001b[0m\n",
            "\u001b[0;31mKeyboardInterrupt\u001b[0m: "
          ]
        }
      ]
    },
    {
      "cell_type": "code",
      "source": [
        "data = {\n",
        "    'review_text': [\n",
        "        '완전 별로 이상해 반품'\n",
        "    ]\n",
        "}\n",
        "\n",
        "# 데이터 프레임 생성\n",
        "df = pd.DataFrame(data)\n",
        "df.to_csv('test.csv', index=False)"
      ],
      "metadata": {
        "id": "n8FMHlUmH69U"
      },
      "execution_count": null,
      "outputs": []
    },
    {
      "cell_type": "code",
      "source": [
        "# 현재 디렉토리의 모든 CSV 파일 경로 가져오기\n",
        "csv_files = glob.glob(os.path.join(os.getcwd(), \"*.csv\"))\n",
        "\n",
        "# 토크나이저 로드\n",
        "tokenizer = AutoTokenizer.from_pretrained('/content/drive/MyDrive/Colab Notebooks/fine_tuned_model')\n",
        "\n",
        "# 모델 로드\n",
        "model = AutoModelForSequenceClassification.from_pretrained('/content/drive/MyDrive/Colab Notebooks/fine_tuned_model')\n",
        "model.eval()\n",
        "\n",
        "# 배치 크기를 256로 설정 => 첫트라이 32의 2^3 => 시스템RAM 사용량 피크 11.1gb\n",
        "batch_size = 256\n",
        "\n",
        "# 모든 CSV 파일에 대해 예측 수행 및 저장\n",
        "for file in csv_files:\n",
        "    # 데이터 로드\n",
        "    data = pd.read_csv(file)\n",
        "\n",
        "    # 결과 저장을 위한 리스트\n",
        "    predicted_labels = []\n",
        "\n",
        "    # 배치 처리\n",
        "    for i in tqdm(range(0, len(data), batch_size)):\n",
        "        # 배치 추출\n",
        "        batch_texts = data['review_text'][i:i+batch_size].tolist()\n",
        "\n",
        "        # 텍스트 토큰화\n",
        "        new_encodings = tokenizer(batch_texts, padding=True, truncation=True, return_tensors='pt')\n",
        "\n",
        "        # 예측 수행\n",
        "        with torch.no_grad():\n",
        "            outputs = model(**new_encodings)\n",
        "\n",
        "        # 로짓(logits) 추출\n",
        "        logits = outputs.logits\n",
        "\n",
        "        # 예측된 레이블\n",
        "        batch_predicted_labels = torch.argmax(logits, dim=1).cpu().numpy()\n",
        "        # 예측된 레이블을 원래의 레이블 값으로 변환 (0~4 -> 1~5)\n",
        "        batch_predicted_labels = batch_predicted_labels + 1\n",
        "\n",
        "        # 예측된 레이블을 결과 리스트에 추가\n",
        "        predicted_labels.extend(batch_predicted_labels)\n",
        "\n",
        "    # 데이터에 예측된 레이블 추가\n",
        "    data['predicted_rate'] = predicted_labels\n",
        "\n",
        "    # 결과 저장\n",
        "    new_filename = os.path.splitext(file)[0] + '_finetunning_sentiment.csv'\n",
        "    data.to_csv(new_filename, index=False)"
      ],
      "metadata": {
        "colab": {
          "base_uri": "https://localhost:8080/"
        },
        "id": "IdksTIamIjab",
        "outputId": "4dc7456b-c089-4b90-9616-9c3a0fc6ad0d"
      },
      "execution_count": null,
      "outputs": [
        {
          "output_type": "stream",
          "name": "stderr",
          "text": [
            "100%|██████████| 8/8 [1:09:08<00:00, 518.62s/it]\n"
          ]
        }
      ]
    },
    {
      "cell_type": "code",
      "source": [
        "# 현재 디렉토리의 모든 CSV 파일 경로 가져오기\n",
        "csv_files = glob.glob(os.path.join(os.getcwd(), \"*.csv\"))\n",
        "\n",
        "# 모든 CSV 파일을 읽어서 데이터 프레임으로 병합\n",
        "df_list = []\n",
        "for file in csv_files:\n",
        "    df = pd.read_csv(file)\n",
        "    df_list.append(df)\n",
        "\n",
        "# 데이터 프레임 병합\n",
        "combined_df = pd.concat(df_list, ignore_index=True)\n",
        "combined_df.to_csv('product_kurly_review_2024_sa.csv', index=False)"
      ],
      "metadata": {
        "id": "tonydLf3KPkt"
      },
      "execution_count": null,
      "outputs": []
    },
    {
      "cell_type": "code",
      "source": [
        "combined_df.predicted_rate.value_counts()"
      ],
      "metadata": {
        "colab": {
          "base_uri": "https://localhost:8080/"
        },
        "id": "8H5yIcQhb9G7",
        "outputId": "32448ac3-990a-4d5f-ab29-52bb66fc6f2f"
      },
      "execution_count": null,
      "outputs": [
        {
          "output_type": "execute_result",
          "data": {
            "text/plain": [
              "predicted_rate\n",
              "5    13557\n",
              "4     1344\n",
              "1      142\n",
              "2       45\n",
              "3       22\n",
              "Name: count, dtype: int64"
            ]
          },
          "metadata": {},
          "execution_count": 14
        }
      ]
    },
    {
      "cell_type": "markdown",
      "source": [
        "## 쿠팡 새로운 리뷰 적용"
      ],
      "metadata": {
        "id": "61AsfvUxQBYH"
      }
    },
    {
      "cell_type": "code",
      "source": [
        "csv_files = glob.glob(os.path.join(os.getcwd(), \"product_coupang_review_20240615.csv\"))\n",
        "tokenizer = AutoTokenizer.from_pretrained('/content/drive/MyDrive/Colab Notebooks/fine_tuned_model')\n",
        "model = AutoModelForSequenceClassification.from_pretrained('/content/drive/MyDrive/Colab Notebooks/fine_tuned_model')\n",
        "model.eval()\n",
        "\n",
        "# 배치 크기를 256로 설정 => 첫트라이 32의 2^3 => 시스템RAM 사용량 피크 11.1gb\n",
        "batch_size = 256\n",
        "\n",
        "for file in csv_files:\n",
        "    data = pd.read_csv(file)\n",
        "    # 결과 저장을 위한 리스트\n",
        "    predicted_labels = []\n",
        "\n",
        "    # 배치 처리\n",
        "    for i in tqdm(range(0, len(data), batch_size)):\n",
        "        batch_texts = data['review'][i:i+batch_size].tolist()\n",
        "        new_encodings = tokenizer(batch_texts, padding=True, truncation=True, return_tensors='pt')\n",
        "        with torch.no_grad():\n",
        "            outputs = model(**new_encodings)\n",
        "        logits = outputs.logits\n",
        "        batch_predicted_labels = torch.argmax(logits, dim=1).cpu().numpy()\n",
        "        # 예측된 레이블을 원래의 레이블 값으로 변환 (0~4 -> 1~5)\n",
        "        batch_predicted_labels = batch_predicted_labels + 1\n",
        "        predicted_labels.extend(batch_predicted_labels)\n",
        "\n",
        "    # 데이터에 예측된 레이블 추가\n",
        "    data['predicted_rate'] = predicted_labels\n",
        "\n",
        "    # 결과 저장\n",
        "    new_filename = os.path.splitext(file)[0] + '_finetunning_sentiment.csv'\n",
        "    data.to_csv(new_filename, index=False)"
      ],
      "metadata": {
        "colab": {
          "base_uri": "https://localhost:8080/"
        },
        "id": "KFBLZQZAQAqS",
        "outputId": "2590b97f-f302-41a9-8d1f-12beccf791c5"
      },
      "execution_count": null,
      "outputs": [
        {
          "output_type": "stream",
          "name": "stderr",
          "text": [
            "100%|██████████| 11/11 [1:52:12<00:00, 612.06s/it]\n"
          ]
        }
      ]
    },
    {
      "cell_type": "code",
      "source": [
        "df = pd.read_csv('product_coupang_review_20240616_finetunning_sentiment.csv')"
      ],
      "metadata": {
        "id": "qOg4CY76AYur"
      },
      "execution_count": null,
      "outputs": []
    },
    {
      "cell_type": "code",
      "source": [
        "# 두 칼럼의 값이 다른 행을 필터링\n",
        "different_rows = df[df['rate'] != df['predicted_rate']]\n",
        "\n",
        "# 해당 행들의 review 칼럼을 추출\n",
        "review_data = different_rows['review']\n"
      ],
      "metadata": {
        "id": "jV8VP1DxAkCC"
      },
      "execution_count": null,
      "outputs": []
    },
    {
      "cell_type": "code",
      "source": [
        "different_rows['predicted_rate'].value_counts()"
      ],
      "metadata": {
        "colab": {
          "base_uri": "https://localhost:8080/"
        },
        "id": "Y34eszDPBfCk",
        "outputId": "206c8e59-465c-466e-a479-8e23127c0d8c"
      },
      "execution_count": null,
      "outputs": [
        {
          "output_type": "execute_result",
          "data": {
            "text/plain": [
              "predicted_rate\n",
              "5    104\n",
              "4     41\n",
              "1      5\n",
              "Name: count, dtype: int64"
            ]
          },
          "metadata": {},
          "execution_count": 22
        }
      ]
    },
    {
      "cell_type": "code",
      "source": [
        "different_rows['rate'].value_counts()"
      ],
      "metadata": {
        "colab": {
          "base_uri": "https://localhost:8080/"
        },
        "id": "7FjkZVYNB-Xx",
        "outputId": "96c739d0-5fbc-41ae-b065-98c5498a7f66"
      },
      "execution_count": null,
      "outputs": [
        {
          "output_type": "execute_result",
          "data": {
            "text/plain": [
              "rate\n",
              "4    89\n",
              "5    24\n",
              "3    24\n",
              "1     9\n",
              "2     4\n",
              "Name: count, dtype: int64"
            ]
          },
          "metadata": {},
          "execution_count": 23
        }
      ]
    },
    {
      "cell_type": "code",
      "source": [
        "print(different_rows[different_rows['predicted_rate'] == 4].review)"
      ],
      "metadata": {
        "colab": {
          "base_uri": "https://localhost:8080/"
        },
        "id": "8sELRYuzBBzc",
        "outputId": "9efa5a5d-8feb-4ec4-9e69-17c0680211d1"
      },
      "execution_count": null,
      "outputs": [
        {
          "output_type": "stream",
          "name": "stdout",
          "text": [
            "141     주로 코스트고에서 구매 했었는데\\n이번에는 쿠팡에서 구매 해 봤습니다.\\n또 쿠팡에...\n",
            "145     믿고먹는거임. 다만...기억력 좋아지게하려고 먹는건데.....먹는걸 잊어버림...혹...\n",
            "309     모 브랜드시켜먹다 맛좋은데 비싸서 구경하다\\n싸고 평이 좋길래 남편 먹이려고 샀어요...\n",
            "314     새벽에 도착하자마자 공복에 뮬에타서 먹었는데요 다행히 설사는 없네요. 몸에 맞나봐요...\n",
            "324     모 브랜드시켜먹다 맛좋은데 비싸서 구경하다\\n싸고 평이 좋길래 남편 먹이려고 샀어요...\n",
            "329     새벽에 도착하자마자 공복에 뮬에타서 먹었는데요 다행히 설사는 없네요. 몸에 맞나봐요...\n",
            "380     모 브랜드시켜먹다 맛좋은데 비싸서 구경하다\\n싸고 평이 좋길래 남편 먹이려고 샀어요...\n",
            "385     새벽에 도착하자마자 공복에 뮬에타서 먹었는데요 다행히 설사는 없네요. 몸에 맞나봐요...\n",
            "403     모 브랜드시켜먹다 맛좋은데 비싸서 구경하다\\n싸고 평이 좋길래 남편 먹이려고 샀어요...\n",
            "408     새벽에 도착하자마자 공복에 뮬에타서 먹었는데요 다행히 설사는 없네요. 몸에 맞나봐요...\n",
            "525     운동 후에나 간식으로 먹으려고 샀어요\\n먹어보니 확실히 초콜릿바랑은 다르네요\\n훨씬...\n",
            "570                     효과는 잘 모르겠....\\n\\n먹기 편한 제품인건 확실해요~\n",
            "907     알갱이가 너무 크고 일단 캡슐을 까면 비린내가 확 나요.\\n기존에 먹던제품은 이거 ...\n",
            "1077                             좋은데, 가격이자꾸 슬금슬금 오르는듯요...\n",
            "1078                             지인추천으로 읽어봤는데 생각보다..재미없네요\n",
            "1132    피부는 콜라겐 입니다. 바르는 것도 중요하지만 먹는게 더 중요한거 같아요. 피부 좋...\n",
            "1136                              있는것보다 분말로 먹는것이 더 효과있는느낌\n",
            "1338    약간 실리콘 같은 재질이예요~ 금색이라 조금 있어보이긴 하네요 ~호호\\n에센스겠죠?...\n",
            "1388    일주일 전에 이*증으로 어지럼 때문에 처방약 먹어 가면서\\n비타민c + 철분제 같이...\n",
            "1508    한달 정도 사용해 보았습니다. 길 가다가도 어지럼증이 와서 급하게 철분제를 서서 먹...\n",
            "1555    출산 후 빈혈기가 좀 더 심해져서\\n철분제를 찾고 있었어요!!\\n눈에 보인 제품이 ...\n",
            "1557    4개월째먹는데잘모르겠어요\\n어떤것이몸에이로운역활을하는지..\\n빈혈이있어먹는되아직도\\...\n",
            "1596            힘주면 뒤면 은박지 같은게 혼자 떨어져 나가서 가위로 조심조심 잘라 먹어요\n",
            "1641            힘주면 뒤면 은박지 같은게 혼자 떨어져 나가서 가위로 조심조심 잘라 먹어요\n",
            "1759            힘주면 뒤면 은박지 같은게 혼자 떨어져 나가서 가위로 조심조심 잘라 먹어요\n",
            "1881    이사온 이동네 약국에선 안팔아 혹시나 하고 쿠팡을 들어와 보니 있네요. 제게 필요한...\n",
            "2091     먹던것과 달리 달고 우유맛이 많이 나 저는 그닥 별로 였어요 두개먹은 날은 설사도...\n",
            "2166     먹던것과 달리 달고 우유맛이 많이 나 저는 그닥 별로 였어요 두개먹은 날은 설사도...\n",
            "2288    효소종류가많아서 이것저것 다먹어보는데..효과는전혀없는거같네요\\n맛은 곡물맛이라 먹기...\n",
            "2338    남편이 먹어보고 주문해달라고해서 주문했어요\\n\\n얼마나 맛이 있길래 사달라고 하나 ...\n",
            "2341    개인적인 생각이지만 맛이 좀 다른것 같아요.\\n바나나향도 좀 상큼하지가 않고요.\\n...\n",
            "2345    남편이 이거 사다놓으면 자기 혼자 순식간에 먹어치워서 숨겨두고 아이랑 먹어야해요ㅋㅋ...\n",
            "2346    초코라기보다\\n카라멜이라고 하는게 더 맞는듯해요~\\n당이 필요할때 추천~~~~~\\n...\n",
            "2347    상품안내는 1.5Kg으로 착각하게 만드는데 이상품은 1.25Kg 입니다.\\n\\n다른...\n",
            "2349    이상하네요 그냥 일반 피스타치오만 생으로 먹더라도 향이 이정도까지 안나지는 않을텐데...\n",
            "2361               후기는 맛있대서 샀는데\\n싼마이 맛+좀 느끼해소 손이 자주 안가요..\n",
            "2366    배송기간 ! 역쉬 쿠팡 1일 안에 왔다 근데 배송을 뜯어보니\\n제품을 담고 있는 플...\n",
            "2404                       딸래미가 요즘은 킨x에서 석기시대에 푹 빠졌답니다~ㅎㅎ\n",
            "2408    두바이에서 먹었던 대추야자 먹고싶어서 사봤는데요\\n음 막 쫄깃쫄깃 하지는 않고요 달...\n",
            "2413    토블론은 말이 필요 없지요 면세점 가면 항상 구매했던 건데 요즘 면세점을 이용 못하...\n",
            "2424    브라우니 만들려구 구매했어요.\\n\\n만들었는데 저렴한 다크보다 훨씬 나으지는 잘 모...\n",
            "Name: review, dtype: object\n"
          ]
        }
      ]
    },
    {
      "cell_type": "markdown",
      "source": [
        "## 모델평가"
      ],
      "metadata": {
        "id": "LXNq6JtUQX8A"
      }
    },
    {
      "cell_type": "code",
      "source": [
        "# 데이터 불러오기\n",
        "data = pd.read_csv('coupang_reviews_oversampled.csv')\n",
        "tokenizer = AutoTokenizer.from_pretrained('/content/drive/MyDrive/Colab Notebooks/fine_tuned_model')\n",
        "model = AutoModelForSequenceClassification.from_pretrained('/content/drive/MyDrive/Colab Notebooks/fine_tuned_model')\n",
        "\n",
        "# 텍스트와 라벨 분리\n",
        "texts = data['review'].tolist()\n",
        "labels = data['rate'].tolist()\n",
        "\n",
        "# 라벨 값 확인 및 변환 (1~5 -> 0~4)\n",
        "labels = [label - 1 for label in labels]\n",
        "print(f\"Unique labels in dataset: {np.unique(labels)}\")\n",
        "\n",
        "# 학습/검증 데이터셋 분리\n",
        "train_texts, val_texts, train_labels, val_labels = train_test_split(texts, labels, test_size=0.2, random_state=42)\n",
        "# 토큰화 함수 정의\n",
        "def tokenize_function(texts):\n",
        "    return tokenizer(texts, padding=\"max_length\", truncation=True, return_tensors='pt')\n",
        "# 데이터 토큰화\n",
        "train_encodings = tokenize_function(train_texts)\n",
        "val_encodings = tokenize_function(val_texts)\n",
        "class ReviewsDataset(torch.utils.data.Dataset):\n",
        "    def __init__(self, encodings, labels):\n",
        "        self.encodings = encodings\n",
        "        self.labels = labels\n",
        "\n",
        "    def __getitem__(self, idx):\n",
        "        item = {key: torch.tensor(val[idx]) for key, val in self.encodings.items()}\n",
        "        item['labels'] = torch.tensor(self.labels[idx])\n",
        "        return item\n",
        "\n",
        "    def __len__(self):\n",
        "        return len(self.labels)\n",
        "\n",
        "train_dataset = ReviewsDataset(train_encodings, train_labels)\n",
        "val_dataset = ReviewsDataset(val_encodings, val_labels)\n",
        "\n",
        "# 평가용 데이터셋 준비 (validation set을 evaluation set으로 사용)\n",
        "eval_dataset = val_dataset"
      ],
      "metadata": {
        "colab": {
          "base_uri": "https://localhost:8080/"
        },
        "id": "ytgNnT8OGEVp",
        "outputId": "4dc6ed0c-976e-4a9a-ea7f-66a1c099d6a5"
      },
      "execution_count": null,
      "outputs": [
        {
          "output_type": "stream",
          "name": "stdout",
          "text": [
            "Unique labels in dataset: [0 1 2 3 4]\n"
          ]
        }
      ]
    },
    {
      "cell_type": "code",
      "source": [
        "from sklearn.metrics import accuracy_score, precision_recall_fscore_support\n",
        "\n",
        "# 훈련 인자 설정\n",
        "training_args = TrainingArguments(\n",
        "    output_dir='./results',\n",
        "    eval_strategy=\"epoch\",\n",
        "    learning_rate=2e-5,\n",
        "    per_device_train_batch_size=16,\n",
        "    per_device_eval_batch_size=16,\n",
        "    num_train_epochs=3,\n",
        "    weight_decay=0.01,\n",
        "    logging_dir='./logs',\n",
        "    logging_steps=10,\n",
        ")\n",
        "\n",
        "def compute_metrics(p):\n",
        "    pred, labels = p\n",
        "    pred = np.argmax(pred, axis=1)\n",
        "    accuracy = accuracy_score(labels, pred)\n",
        "    precision, recall, f1, _ = precision_recall_fscore_support(labels, pred, average='weighted')\n",
        "    return {\n",
        "        'accuracy': accuracy,\n",
        "        'precision': precision,\n",
        "        'recall': recall,\n",
        "        'f1': f1\n",
        "    }\n",
        "\n",
        "# 트레이너 설정 및 평가\n",
        "trainer = Trainer(\n",
        "    model=model,\n",
        "    args=training_args,\n",
        "    eval_dataset=eval_dataset,\n",
        "    compute_metrics=compute_metrics\n",
        ")\n",
        "\n",
        "# 모델 평가\n",
        "eval_result = trainer.evaluate()\n",
        "\n",
        "# 결과 출력\n",
        "print(eval_result)"
      ],
      "metadata": {
        "colab": {
          "base_uri": "https://localhost:8080/",
          "height": 109
        },
        "id": "PUN60fADK3fG",
        "outputId": "f5f313af-05e6-434b-b9c4-95e70b68ffeb"
      },
      "execution_count": null,
      "outputs": [
        {
          "output_type": "stream",
          "name": "stderr",
          "text": [
            "<ipython-input-6-3ee81c128853>:28: UserWarning: To copy construct from a tensor, it is recommended to use sourceTensor.clone().detach() or sourceTensor.clone().detach().requires_grad_(True), rather than torch.tensor(sourceTensor).\n",
            "  item = {key: torch.tensor(val[idx]) for key, val in self.encodings.items()}\n"
          ]
        },
        {
          "output_type": "display_data",
          "data": {
            "text/plain": [
              "<IPython.core.display.HTML object>"
            ],
            "text/html": [
              "\n",
              "    <div>\n",
              "      \n",
              "      <progress value='705' max='705' style='width:300px; height:20px; vertical-align: middle;'></progress>\n",
              "      [705/705 06:14]\n",
              "    </div>\n",
              "    "
            ]
          },
          "metadata": {}
        },
        {
          "output_type": "stream",
          "name": "stdout",
          "text": [
            "{'eval_loss': 0.003195264609530568, 'eval_accuracy': 0.9996451698749224, 'eval_precision': 0.9996458109410923, 'eval_recall': 0.9996451698749224, 'eval_f1': 0.999645174454081, 'eval_runtime': 375.3936, 'eval_samples_per_second': 30.03, 'eval_steps_per_second': 1.878}\n"
          ]
        }
      ]
    },
    {
      "cell_type": "code",
      "source": [
        "import matplotlib.pyplot as plt\n",
        "import seaborn as sns\n",
        "# 평가 결과\n",
        "eval_result = {\n",
        "    'eval_loss': 0.003195264609530568,\n",
        "    'eval_accuracy': 0.9996451698749224,\n",
        "    'eval_precision': 0.9996458109410923,\n",
        "    'eval_recall': 0.9996451698749224,\n",
        "    'eval_f1': 0.999645174454081,\n",
        "    'eval_runtime': 375.3936,\n",
        "    'eval_samples_per_second': 30.03,\n",
        "    'eval_steps_per_second': 1.878\n",
        "}\n",
        "\n",
        "# 시각화할 지표 선택\n",
        "metrics = ['eval_loss', 'eval_accuracy', 'eval_precision', 'eval_recall', 'eval_f1']\n",
        "values = [eval_result[metric] for metric in metrics]\n",
        "\n",
        "# 시각화할 지표 선택\n",
        "colors = ['#1f77b4', '#ff7f0e', '#2ca02c', '#d62728', '#9467bd']  # 각 지표에 대해 다른 색상\n",
        "\n",
        "fig, ax = plt.subplots(figsize=(12, 8))\n",
        "\n",
        "# 막대 그래프 그리기\n",
        "bars = sns.barplot(x=metrics, y=values, palette=colors, ax=ax)\n",
        "\n",
        "# 제목 및 축 레이블 설정\n",
        "ax.set_xlabel('Metrics', fontsize=14)\n",
        "ax.set_ylabel('Values', fontsize=14)\n",
        "ax.set_ylim(0, 1)\n",
        "\n",
        "# 값 레이블 추가\n",
        "for bar in bars.patches:\n",
        "    ax.annotate(format(bar.get_height(), '.4f'),\n",
        "                (bar.get_x() + bar.get_width() / 2., bar.get_height()),\n",
        "                ha='center', va='center',\n",
        "                xytext=(0, 9),\n",
        "                textcoords='offset points',\n",
        "                fontsize=12)\n",
        "\n",
        "plt.show()"
      ],
      "metadata": {
        "colab": {
          "base_uri": "https://localhost:8080/",
          "height": 710
        },
        "id": "_QZ_bNGgMYJq",
        "outputId": "8e424162-5dc3-4c00-9412-957efce5f9ab"
      },
      "execution_count": null,
      "outputs": [
        {
          "output_type": "stream",
          "name": "stderr",
          "text": [
            "<ipython-input-6-cd5efb9113dc>:25: FutureWarning: \n",
            "\n",
            "Passing `palette` without assigning `hue` is deprecated and will be removed in v0.14.0. Assign the `x` variable to `hue` and set `legend=False` for the same effect.\n",
            "\n",
            "  bars = sns.barplot(x=metrics, y=values, palette=colors, ax=ax)\n"
          ]
        },
        {
          "output_type": "display_data",
          "data": {
            "text/plain": [
              "<Figure size 1200x800 with 1 Axes>"
            ],
            "image/png": "[encoded data removed]"
          },
          "metadata": {}
        }
      ]
    },
    {
      "cell_type": "code",
      "source": [
        "# 데이터 불러오기\n",
        "file_1st_model = 'product_coupang_review_20240615_sentiment_analysis.csv'\n",
        "file_3rd_model = 'product_coupang_review_20240615_finetunning_sentiment.csv'\n",
        "\n",
        "\n",
        "data_1st = pd.read_csv(file_1st_model)\n",
        "data_3rd = pd.read_csv(file_3rd_model)\n",
        "\n",
        "print(data_1st.columns)\n",
        "print(data_3rd.columns)"
      ],
      "metadata": {
        "colab": {
          "base_uri": "https://localhost:8080/"
        },
        "id": "XLSF4XRJ5exd",
        "outputId": "1e643a22-5cd0-48bb-b4d7-1e9af4e8367d"
      },
      "execution_count": null,
      "outputs": [
        {
          "output_type": "stream",
          "name": "stdout",
          "text": [
            "Index(['url', 'review', 'review_date', 'rate', 'date', 'time', 'clean_review',\n",
            "       'sentiment'],\n",
            "      dtype='object')\n",
            "Index(['url', 'review', 'review_date', 'rate', 'date', 'time',\n",
            "       'predicted_rate'],\n",
            "      dtype='object')\n"
          ]
        }
      ]
    },
    {
      "cell_type": "code",
      "source": [
        "import pandas as pd\n",
        "import matplotlib.pyplot as plt\n",
        "import seaborn as sns\n",
        "from sklearn.metrics import confusion_matrix, mean_absolute_error, accuracy_score\n",
        "\n",
        "# 예측값과 실제값\n",
        "y_true = data_1st['rate'].astype(int)\n",
        "y_pred_1st = data_1st['sentiment'].str.extract('(\\d)').astype(int)\n",
        "y_pred_3rd = data_3rd['predicted_rate'].astype(int)\n",
        "\n",
        "# 혼동 행렬 계산\n",
        "cm_1st = confusion_matrix(y_true, y_pred_1st)\n",
        "cm_3rd = confusion_matrix(y_true, y_pred_3rd)\n",
        "\n",
        "# 평균 절대 오차 계산\n",
        "mae_1st = mean_absolute_error(y_true, y_pred_1st)\n",
        "mae_3rd = mean_absolute_error(y_true, y_pred_3rd)\n",
        "\n",
        "# 혼동 행렬 시각화\n",
        "fig, ax = plt.subplots(1, 2, figsize=(14, 6))\n",
        "\n",
        "sns.heatmap(cm_1st, annot=True, fmt='d', cmap='Reds', ax=ax[0])\n",
        "ax[0].set_title('Confusion Matrix - 1st Model')\n",
        "ax[0].set_xlabel('Predicted')\n",
        "ax[0].set_ylabel('Actual')\n",
        "\n",
        "sns.heatmap(cm_3rd, annot=True, fmt='d', cmap='Reds', ax=ax[1])\n",
        "ax[1].set_title('Confusion Matrix - 3rd Model')\n",
        "ax[1].set_xlabel('Predicted')\n",
        "ax[1].set_ylabel('Actual')\n",
        "\n",
        "plt.show()\n",
        "\n",
        "# 평균 절대 오차 시각화\n",
        "mae_values = [mae_1st, mae_3rd]\n",
        "model_names = ['1st Model', '3rd Model']\n",
        "\n",
        "plt.figure(figsize=(8, 6))\n",
        "sns.barplot(x=model_names, y=mae_values, palette='viridis')\n",
        "plt.title('Mean Absolute Error Comparison')\n",
        "plt.xlabel('Model')\n",
        "plt.ylabel('Mean Absolute Error')\n",
        "plt.ylim(0, max(mae_values) + 0.1)\n",
        "for i, v in enumerate(mae_values):\n",
        "    plt.text(i, v + 0.02, f\"{v:.4f}\", ha='center', va='bottom')\n",
        "plt.show()"
      ],
      "metadata": {
        "colab": {
          "base_uri": "https://localhost:8080/",
          "height": 1000
        },
        "id": "Et1bk1guyUb5",
        "outputId": "7416209d-1efd-4aac-ed22-3012c6ae9e5d"
      },
      "execution_count": null,
      "outputs": [
        {
          "output_type": "display_data",
          "data": {
            "text/plain": [
              "<Figure size 1400x600 with 4 Axes>"
            ],
            "image/png": "[encoded data removed]"
          },
          "metadata": {}
        },
        {
          "output_type": "stream",
          "name": "stderr",
          "text": [
            "<ipython-input-26-6fe0fc8de8cd>:39: FutureWarning: \n",
            "\n",
            "Passing `palette` without assigning `hue` is deprecated and will be removed in v0.14.0. Assign the `x` variable to `hue` and set `legend=False` for the same effect.\n",
            "\n",
            "  sns.barplot(x=model_names, y=mae_values, palette='viridis')\n"
          ]
        },
        {
          "output_type": "display_data",
          "data": {
            "text/plain": [
              "<Figure size 800x600 with 1 Axes>"
            ],
            "image/png": "[encoded data removed]"
          },
          "metadata": {}
        }
      ]
    },
    {
      "cell_type": "code",
      "source": [
        "# 틀린 예측 계산\n",
        "data_1st['mismatch'] = (data_1st['rate'] != data_1st['sentiment'])\n",
        "data_3rd['mismatch'] = (data_1st['rate'] != data_3rd['predicted_rate'])\n",
        "\n",
        "# 레이블별 틀린 예측 개수 계산\n",
        "mismatch_count_1st = data_1st.groupby('rate')['mismatch'].sum()\n",
        "mismatch_count_3rd = data_3rd.groupby('rate')['mismatch'].sum()\n",
        "\n",
        "# y축 범위 설정\n",
        "y_max = max(mismatch_count_1st.max(), mismatch_count_3rd.max()) + 100  # 여유를 두어 설정\n",
        "\n",
        "# 막대그래프로 시각화\n",
        "fig, ax = plt.subplots(1, 2, figsize=(14, 6))\n",
        "\n",
        "sns.barplot(x=mismatch_count_1st.index, y=mismatch_count_1st.values, palette='Blues', ax=ax[0])\n",
        "ax[0].set_title('Mismatches per Label - 1st Model')\n",
        "ax[0].set_xlabel('Label')\n",
        "ax[0].set_ylabel('Mismatch Count')\n",
        "ax[0].set_ylim(0, y_max)\n",
        "\n",
        "sns.barplot(x=mismatch_count_3rd.index, y=mismatch_count_3rd.values, palette='Greens', ax=ax[1])\n",
        "ax[1].set_title('Mismatches per Label - 3rd Model')\n",
        "ax[1].set_xlabel('Label')\n",
        "ax[1].set_ylabel('Mismatch Count')\n",
        "ax[1].set_ylim(0, y_max)\n",
        "\n",
        "plt.show()"
      ],
      "metadata": {
        "colab": {
          "base_uri": "https://localhost:8080/",
          "height": 738
        },
        "id": "N5kgXRHh7vuD",
        "outputId": "8270f481-f3e9-4200-f30a-0dff010b60e0"
      },
      "execution_count": null,
      "outputs": [
        {
          "output_type": "stream",
          "name": "stderr",
          "text": [
            "<ipython-input-25-078fb636a594>:15: FutureWarning: \n",
            "\n",
            "Passing `palette` without assigning `hue` is deprecated and will be removed in v0.14.0. Assign the `x` variable to `hue` and set `legend=False` for the same effect.\n",
            "\n",
            "  sns.barplot(x=mismatch_count_1st.index, y=mismatch_count_1st.values, palette='Blues', ax=ax[0])\n",
            "<ipython-input-25-078fb636a594>:21: FutureWarning: \n",
            "\n",
            "Passing `palette` without assigning `hue` is deprecated and will be removed in v0.14.0. Assign the `x` variable to `hue` and set `legend=False` for the same effect.\n",
            "\n",
            "  sns.barplot(x=mismatch_count_3rd.index, y=mismatch_count_3rd.values, palette='Greens', ax=ax[1])\n"
          ]
        },
        {
          "output_type": "display_data",
          "data": {
            "text/plain": [
              "<Figure size 1400x600 with 2 Axes>"
            ],
            "image/png": "[encoded data removed]"
          },
          "metadata": {}
        }
      ]
    },
    {
      "cell_type": "code",
      "source": [
        "from sklearn.metrics import confusion_matrix, mean_absolute_error, accuracy_score\n",
        "\n",
        "# 예측값과 실제값\n",
        "y_true = data_1st['rate'].astype(int)\n",
        "y_pred_1st = data_1st['sentiment'].str.extract('(\\d)').astype(int)\n",
        "y_pred_3rd = data_3rd['predicted_rate'].astype(int)\n",
        "\n",
        "# 틀린 예측 계산\n",
        "data_1st['mismatch'] = (data_1st['rate'] != data_1st['sentiment'])\n",
        "data_3rd['mismatch'] = (data_1st['rate'] != data_3rd['predicted_rate'])\n",
        "\n",
        "# 레이블별 틀린 예측 개수 계산\n",
        "mismatch_count_1st = data_1st.groupby('rate')['mismatch'].sum()\n",
        "mismatch_count_3rd = data_3rd.groupby('rate')['mismatch'].sum()\n",
        "\n",
        "# y축 범위 설정\n",
        "y_max = max(mismatch_count_1st.max(), mismatch_count_3rd.max()) + 100  # 여유를 두어 설정\n",
        "\n",
        "# 혼동 행렬 계산\n",
        "cm_1st = confusion_matrix(y_true, y_pred_1st)\n",
        "cm_3rd = confusion_matrix(y_true, y_pred_3rd)\n",
        "\n",
        "# 평균 절대 오차 계산\n",
        "mae_1st = mean_absolute_error(y_true, y_pred_1st)\n",
        "mae_3rd = mean_absolute_error(y_true, y_pred_3rd)\n",
        "\n",
        "# 정확도 계산\n",
        "accuracy_1st = accuracy_score(y_true, y_pred_1st)\n",
        "accuracy_3rd = accuracy_score(y_true, y_pred_3rd)\n",
        "\n",
        "# 혼동 행렬 시각화\n",
        "fig, ax = plt.subplots(2, 2, figsize=(14, 12))\n",
        "\n",
        "sns.heatmap(cm_1st, annot=True, fmt='d', cmap='Blues', ax=ax[0, 0])\n",
        "ax[0, 0].set_title('Confusion Matrix - 1st Model')\n",
        "ax[0, 0].set_xlabel('Predicted')\n",
        "ax[0, 0].set_ylabel('Actual')\n",
        "\n",
        "sns.heatmap(cm_3rd, annot=True, fmt='d', cmap='Greens', ax=ax[0, 1])\n",
        "ax[0, 1].set_title('Confusion Matrix - 3rd Model')\n",
        "ax[0, 1].set_xlabel('Predicted')\n",
        "ax[0, 1].set_ylabel('Actual')\n",
        "\n",
        "# 레이블별 틀린 예측 개수 시각화\n",
        "sns.barplot(x=mismatch_count_1st.index, y=mismatch_count_1st.values, palette='Blues', ax=ax[1, 0])\n",
        "ax[1, 0].set_title('Mismatches per Label - 1st Model')\n",
        "ax[1, 0].set_xlabel('Label')\n",
        "ax[1, 0].set_ylabel('Mismatch Count')\n",
        "ax[1, 0].set_ylim(0, y_max)\n",
        "\n",
        "sns.barplot(x=mismatch_count_3rd.index, y=mismatch_count_3rd.values, palette='Greens', ax=ax[1, 1])\n",
        "ax[1, 1].set_title('Mismatches per Label - 3rd Model')\n",
        "ax[1, 1].set_xlabel('Label')\n",
        "ax[1, 1].set_ylabel('Mismatch Count')\n",
        "ax[1, 1].set_ylim(0, y_max)\n",
        "\n",
        "plt.tight_layout()\n",
        "plt.show()\n",
        "\n",
        "# y축 범위 설정\n",
        "y_max = max(mismatch_count_1st.max(), mismatch_count_3rd.max()) + 100  # 여유를 두어 설정\n",
        "\n",
        "# MAE와 정확도 시각화\n",
        "metrics = ['MAE', 'Accuracy']\n",
        "values_1st = [mae_1st, accuracy_1st]\n",
        "values_3rd = [mae_3rd, accuracy_3rd]\n",
        "\n",
        "fig, ax = plt.subplots(1, 2, figsize=(14, 6))\n",
        "\n",
        "sns.barplot(x=metrics, y=values_1st, palette='Reds', ax=ax[0])\n",
        "ax[0].set_title('Metrics - 1st Model')\n",
        "ax[0].set_ylim(0, 2.5)\n",
        "for i, v in enumerate(values_1st):\n",
        "    ax[0].text(i, v + 0.02, f\"{v:.4f}\", ha='center', va='bottom')\n",
        "\n",
        "sns.barplot(x=metrics, y=values_3rd, palette='Blues', ax=ax[1])\n",
        "ax[1].set_title('Metrics - 3rd Model')\n",
        "ax[1].set_ylim(0, 2.5)\n",
        "for i, v in enumerate(values_3rd):\n",
        "    ax[1].text(i, v + 0.02, f\"{v:.4f}\", ha='center', va='bottom')\n",
        "\n",
        "plt.show()"
      ],
      "metadata": {
        "colab": {
          "base_uri": "https://localhost:8080/",
          "height": 1000
        },
        "id": "hAINYSQSGq71",
        "outputId": "b0d1bd42-1f26-4614-ea81-976407b9eda8"
      },
      "execution_count": null,
      "outputs": [
        {
          "output_type": "stream",
          "name": "stderr",
          "text": [
            "<ipython-input-32-67b8cef8bf1f>:45: FutureWarning: \n",
            "\n",
            "Passing `palette` without assigning `hue` is deprecated and will be removed in v0.14.0. Assign the `x` variable to `hue` and set `legend=False` for the same effect.\n",
            "\n",
            "  sns.barplot(x=mismatch_count_1st.index, y=mismatch_count_1st.values, palette='Blues', ax=ax[1, 0])\n",
            "<ipython-input-32-67b8cef8bf1f>:51: FutureWarning: \n",
            "\n",
            "Passing `palette` without assigning `hue` is deprecated and will be removed in v0.14.0. Assign the `x` variable to `hue` and set `legend=False` for the same effect.\n",
            "\n",
            "  sns.barplot(x=mismatch_count_3rd.index, y=mismatch_count_3rd.values, palette='Greens', ax=ax[1, 1])\n"
          ]
        },
        {
          "output_type": "display_data",
          "data": {
            "text/plain": [
              "<Figure size 1400x1200 with 6 Axes>"
            ],
            "image/png": "[encoded data removed]"
          },
          "metadata": {}
        },
        {
          "output_type": "stream",
          "name": "stderr",
          "text": [
            "<ipython-input-32-67b8cef8bf1f>:70: FutureWarning: \n",
            "\n",
            "Passing `palette` without assigning `hue` is deprecated and will be removed in v0.14.0. Assign the `x` variable to `hue` and set `legend=False` for the same effect.\n",
            "\n",
            "  sns.barplot(x=metrics, y=values_1st, palette='Reds', ax=ax[0])\n",
            "<ipython-input-32-67b8cef8bf1f>:76: FutureWarning: \n",
            "\n",
            "Passing `palette` without assigning `hue` is deprecated and will be removed in v0.14.0. Assign the `x` variable to `hue` and set `legend=False` for the same effect.\n",
            "\n",
            "  sns.barplot(x=metrics, y=values_3rd, palette='Blues', ax=ax[1])\n"
          ]
        },
        {
          "output_type": "display_data",
          "data": {
            "text/plain": [
              "<Figure size 1400x600 with 2 Axes>"
            ],
            "image/png": "[encoded data removed]"
          },
          "metadata": {}
        }
      ]
    }
  ]
}